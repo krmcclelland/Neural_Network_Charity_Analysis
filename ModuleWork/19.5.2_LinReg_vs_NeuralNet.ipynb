{
 "cells": [
  {
   "cell_type": "markdown",
   "id": "73b32ca9",
   "metadata": {},
   "source": [
    "# 19.5.2 Logistic Regression Vs. a Basic Neural Network"
   ]
  },
  {
   "cell_type": "markdown",
   "id": "58645d43",
   "metadata": {},
   "source": [
    "## Import our dependencies"
   ]
  },
  {
   "cell_type": "code",
   "execution_count": 1,
   "id": "73c5a7bb",
   "metadata": {},
   "outputs": [],
   "source": [
    "from sklearn.model_selection import train_test_split\n",
    "from sklearn.preprocessing import StandardScaler\n",
    "from sklearn.linear_model import LogisticRegression\n",
    "from sklearn.metrics import accuracy_score\n",
    "import pandas as pd\n",
    "import tensorflow as tf"
   ]
  },
  {
   "cell_type": "markdown",
   "id": "7e16022a",
   "metadata": {},
   "source": [
    "## Import our input dataset"
   ]
  },
  {
   "cell_type": "code",
   "execution_count": 2,
   "id": "d07bbe5d",
   "metadata": {},
   "outputs": [
    {
     "data": {
      "text/html": [
       "<div>\n",
       "<style scoped>\n",
       "    .dataframe tbody tr th:only-of-type {\n",
       "        vertical-align: middle;\n",
       "    }\n",
       "\n",
       "    .dataframe tbody tr th {\n",
       "        vertical-align: top;\n",
       "    }\n",
       "\n",
       "    .dataframe thead th {\n",
       "        text-align: right;\n",
       "    }\n",
       "</style>\n",
       "<table border=\"1\" class=\"dataframe\">\n",
       "  <thead>\n",
       "    <tr style=\"text-align: right;\">\n",
       "      <th></th>\n",
       "      <th>Pregnancies</th>\n",
       "      <th>Glucose</th>\n",
       "      <th>BloodPressure</th>\n",
       "      <th>SkinThickness</th>\n",
       "      <th>Insulin</th>\n",
       "      <th>BMI</th>\n",
       "      <th>DiabetesPedigreeFunction</th>\n",
       "      <th>Age</th>\n",
       "      <th>Outcome</th>\n",
       "    </tr>\n",
       "  </thead>\n",
       "  <tbody>\n",
       "    <tr>\n",
       "      <th>0</th>\n",
       "      <td>6</td>\n",
       "      <td>148</td>\n",
       "      <td>72</td>\n",
       "      <td>35</td>\n",
       "      <td>0</td>\n",
       "      <td>33.6</td>\n",
       "      <td>0.627</td>\n",
       "      <td>50</td>\n",
       "      <td>1</td>\n",
       "    </tr>\n",
       "    <tr>\n",
       "      <th>1</th>\n",
       "      <td>1</td>\n",
       "      <td>85</td>\n",
       "      <td>66</td>\n",
       "      <td>29</td>\n",
       "      <td>0</td>\n",
       "      <td>26.6</td>\n",
       "      <td>0.351</td>\n",
       "      <td>31</td>\n",
       "      <td>0</td>\n",
       "    </tr>\n",
       "    <tr>\n",
       "      <th>2</th>\n",
       "      <td>8</td>\n",
       "      <td>183</td>\n",
       "      <td>64</td>\n",
       "      <td>0</td>\n",
       "      <td>0</td>\n",
       "      <td>23.3</td>\n",
       "      <td>0.672</td>\n",
       "      <td>32</td>\n",
       "      <td>1</td>\n",
       "    </tr>\n",
       "    <tr>\n",
       "      <th>3</th>\n",
       "      <td>1</td>\n",
       "      <td>89</td>\n",
       "      <td>66</td>\n",
       "      <td>23</td>\n",
       "      <td>94</td>\n",
       "      <td>28.1</td>\n",
       "      <td>0.167</td>\n",
       "      <td>21</td>\n",
       "      <td>0</td>\n",
       "    </tr>\n",
       "    <tr>\n",
       "      <th>4</th>\n",
       "      <td>0</td>\n",
       "      <td>137</td>\n",
       "      <td>40</td>\n",
       "      <td>35</td>\n",
       "      <td>168</td>\n",
       "      <td>43.1</td>\n",
       "      <td>2.288</td>\n",
       "      <td>33</td>\n",
       "      <td>1</td>\n",
       "    </tr>\n",
       "  </tbody>\n",
       "</table>\n",
       "</div>"
      ],
      "text/plain": [
       "   Pregnancies  Glucose  BloodPressure  SkinThickness  Insulin   BMI  \\\n",
       "0            6      148             72             35        0  33.6   \n",
       "1            1       85             66             29        0  26.6   \n",
       "2            8      183             64              0        0  23.3   \n",
       "3            1       89             66             23       94  28.1   \n",
       "4            0      137             40             35      168  43.1   \n",
       "\n",
       "   DiabetesPedigreeFunction  Age  Outcome  \n",
       "0                     0.627   50        1  \n",
       "1                     0.351   31        0  \n",
       "2                     0.672   32        1  \n",
       "3                     0.167   21        0  \n",
       "4                     2.288   33        1  "
      ]
     },
     "execution_count": 2,
     "metadata": {},
     "output_type": "execute_result"
    }
   ],
   "source": [
    "diabetes_df = pd.read_csv('./Resources/diabetes.csv')\n",
    "diabetes_df.head()"
   ]
  },
  {
   "cell_type": "markdown",
   "id": "5413eb29",
   "metadata": {},
   "source": [
    "## Remove diabetes outcome target from features data"
   ]
  },
  {
   "cell_type": "code",
   "execution_count": 3,
   "id": "b3658cc9",
   "metadata": {},
   "outputs": [],
   "source": [
    "y = diabetes_df.Outcome\n",
    "X = diabetes_df.drop(columns=\"Outcome\")"
   ]
  },
  {
   "cell_type": "markdown",
   "id": "c3f28327",
   "metadata": {},
   "source": [
    "## Split training/test datasets"
   ]
  },
  {
   "cell_type": "code",
   "execution_count": 4,
   "id": "fe092ea5",
   "metadata": {},
   "outputs": [],
   "source": [
    "X_train, X_test, y_train, y_test = train_test_split(X, y, random_state=42, stratify=y)"
   ]
  },
  {
   "cell_type": "markdown",
   "id": "89b0fe10",
   "metadata": {},
   "source": [
    "## Preprocess numerical data for neural network"
   ]
  },
  {
   "cell_type": "markdown",
   "id": "4cb2cfe8",
   "metadata": {},
   "source": [
    "### Create a StandardScaler instance"
   ]
  },
  {
   "cell_type": "code",
   "execution_count": 5,
   "id": "08fc9a31",
   "metadata": {},
   "outputs": [],
   "source": [
    "scaler = StandardScaler()"
   ]
  },
  {
   "cell_type": "markdown",
   "id": "7b385e9c",
   "metadata": {},
   "source": [
    "### Fit the StandardScaler"
   ]
  },
  {
   "cell_type": "code",
   "execution_count": 6,
   "id": "7c13c208",
   "metadata": {},
   "outputs": [],
   "source": [
    "X_scaler = scaler.fit(X_train)"
   ]
  },
  {
   "cell_type": "markdown",
   "id": "430d7c09",
   "metadata": {},
   "source": [
    "### Scale the data"
   ]
  },
  {
   "cell_type": "code",
   "execution_count": 7,
   "id": "4ed7ad64",
   "metadata": {},
   "outputs": [],
   "source": [
    "X_train_scaled = X_scaler.transform(X_train)\n",
    "X_test_scaled = X_scaler.transform(X_test)"
   ]
  },
  {
   "cell_type": "markdown",
   "id": "5e63f3dc",
   "metadata": {},
   "source": [
    "### Define the logistic regression model"
   ]
  },
  {
   "cell_type": "code",
   "execution_count": 8,
   "id": "5ade1fb0",
   "metadata": {},
   "outputs": [],
   "source": [
    "log_classifier = LogisticRegression(solver=\"lbfgs\",max_iter=200)"
   ]
  },
  {
   "cell_type": "markdown",
   "id": "f589f8f3",
   "metadata": {},
   "source": [
    "### Train the model"
   ]
  },
  {
   "cell_type": "code",
   "execution_count": 9,
   "id": "3801524a",
   "metadata": {},
   "outputs": [
    {
     "data": {
      "text/plain": [
       "LogisticRegression(max_iter=200)"
      ]
     },
     "execution_count": 9,
     "metadata": {},
     "output_type": "execute_result"
    }
   ],
   "source": [
    "log_classifier.fit(X_train,y_train)"
   ]
  },
  {
   "cell_type": "markdown",
   "id": "519afa60",
   "metadata": {},
   "source": [
    "### Evaluate the model"
   ]
  },
  {
   "cell_type": "code",
   "execution_count": 10,
   "id": "24152af9",
   "metadata": {},
   "outputs": [
    {
     "name": "stdout",
     "output_type": "stream",
     "text": [
      " Logistic regression model accuracy: 0.729\n"
     ]
    }
   ],
   "source": [
    "y_pred = log_classifier.predict(X_test)\n",
    "print(f\" Logistic regression model accuracy: {accuracy_score(y_test,y_pred):.3f}\")"
   ]
  },
  {
   "cell_type": "markdown",
   "id": "561bf8a5",
   "metadata": {},
   "source": [
    "### Define the basic neural network model"
   ]
  },
  {
   "cell_type": "code",
   "execution_count": 11,
   "id": "8fea8b2d",
   "metadata": {},
   "outputs": [],
   "source": [
    "nn_model = tf.keras.models.Sequential()\n",
    "nn_model.add(tf.keras.layers.Dense(units=16, activation=\"relu\", input_dim=8))\n",
    "nn_model.add(tf.keras.layers.Dense(units=1, activation=\"sigmoid\"))"
   ]
  },
  {
   "cell_type": "markdown",
   "id": "b35cd471",
   "metadata": {},
   "source": [
    "### Compile the Sequential model together and customize metrics"
   ]
  },
  {
   "cell_type": "code",
   "execution_count": 12,
   "id": "f1529b00",
   "metadata": {},
   "outputs": [],
   "source": [
    "nn_model.compile(loss=\"binary_crossentropy\", optimizer=\"adam\", metrics=[\"accuracy\"])"
   ]
  },
  {
   "cell_type": "markdown",
   "id": "8fd50fbb",
   "metadata": {},
   "source": [
    "### Train the model"
   ]
  },
  {
   "cell_type": "code",
   "execution_count": 13,
   "id": "8cc6ec56",
   "metadata": {},
   "outputs": [
    {
     "name": "stdout",
     "output_type": "stream",
     "text": [
      "Epoch 1/50\n",
      "18/18 [==============================] - 0s 950us/step - loss: 0.7243 - accuracy: 0.6424\n",
      "Epoch 2/50\n",
      "18/18 [==============================] - 0s 1ms/step - loss: 0.6899 - accuracy: 0.6458\n",
      "Epoch 3/50\n",
      "18/18 [==============================] - 0s 1ms/step - loss: 0.6608 - accuracy: 0.6493\n",
      "Epoch 4/50\n",
      "18/18 [==============================] - 0s 1ms/step - loss: 0.6351 - accuracy: 0.6597\n",
      "Epoch 5/50\n",
      "18/18 [==============================] - 0s 1ms/step - loss: 0.6135 - accuracy: 0.6701\n",
      "Epoch 6/50\n",
      "18/18 [==============================] - 0s 1ms/step - loss: 0.5944 - accuracy: 0.6875\n",
      "Epoch 7/50\n",
      "18/18 [==============================] - 0s 1ms/step - loss: 0.5774 - accuracy: 0.6997\n",
      "Epoch 8/50\n",
      "18/18 [==============================] - 0s 1ms/step - loss: 0.5626 - accuracy: 0.7188\n",
      "Epoch 9/50\n",
      "18/18 [==============================] - 0s 1ms/step - loss: 0.5492 - accuracy: 0.7222\n",
      "Epoch 10/50\n",
      "18/18 [==============================] - 0s 1ms/step - loss: 0.5373 - accuracy: 0.7274\n",
      "Epoch 11/50\n",
      "18/18 [==============================] - 0s 1ms/step - loss: 0.5266 - accuracy: 0.7361\n",
      "Epoch 12/50\n",
      "18/18 [==============================] - 0s 1ms/step - loss: 0.5175 - accuracy: 0.7465\n",
      "Epoch 13/50\n",
      "18/18 [==============================] - 0s 1ms/step - loss: 0.5090 - accuracy: 0.7500\n",
      "Epoch 14/50\n",
      "18/18 [==============================] - 0s 1ms/step - loss: 0.5021 - accuracy: 0.7604\n",
      "Epoch 15/50\n",
      "18/18 [==============================] - 0s 1ms/step - loss: 0.4954 - accuracy: 0.7639\n",
      "Epoch 16/50\n",
      "18/18 [==============================] - 0s 1ms/step - loss: 0.4894 - accuracy: 0.7656\n",
      "Epoch 17/50\n",
      "18/18 [==============================] - 0s 1ms/step - loss: 0.4844 - accuracy: 0.7743\n",
      "Epoch 18/50\n",
      "18/18 [==============================] - 0s 1ms/step - loss: 0.4798 - accuracy: 0.7795\n",
      "Epoch 19/50\n",
      "18/18 [==============================] - 0s 1ms/step - loss: 0.4757 - accuracy: 0.7795\n",
      "Epoch 20/50\n",
      "18/18 [==============================] - 0s 1ms/step - loss: 0.4719 - accuracy: 0.7795\n",
      "Epoch 21/50\n",
      "18/18 [==============================] - 0s 1ms/step - loss: 0.4685 - accuracy: 0.7830\n",
      "Epoch 22/50\n",
      "18/18 [==============================] - 0s 1ms/step - loss: 0.4653 - accuracy: 0.7847\n",
      "Epoch 23/50\n",
      "18/18 [==============================] - 0s 1ms/step - loss: 0.4623 - accuracy: 0.7882\n",
      "Epoch 24/50\n",
      "18/18 [==============================] - 0s 1ms/step - loss: 0.4597 - accuracy: 0.7882\n",
      "Epoch 25/50\n",
      "18/18 [==============================] - 0s 1ms/step - loss: 0.4572 - accuracy: 0.7934\n",
      "Epoch 26/50\n",
      "18/18 [==============================] - 0s 1ms/step - loss: 0.4549 - accuracy: 0.7951\n",
      "Epoch 27/50\n",
      "18/18 [==============================] - 0s 1ms/step - loss: 0.4528 - accuracy: 0.7986\n",
      "Epoch 28/50\n",
      "18/18 [==============================] - 0s 1ms/step - loss: 0.4513 - accuracy: 0.7934\n",
      "Epoch 29/50\n",
      "18/18 [==============================] - 0s 1ms/step - loss: 0.4492 - accuracy: 0.7951\n",
      "Epoch 30/50\n",
      "18/18 [==============================] - 0s 1ms/step - loss: 0.4479 - accuracy: 0.7969\n",
      "Epoch 31/50\n",
      "18/18 [==============================] - 0s 1ms/step - loss: 0.4465 - accuracy: 0.7969\n",
      "Epoch 32/50\n",
      "18/18 [==============================] - 0s 1ms/step - loss: 0.4449 - accuracy: 0.8003\n",
      "Epoch 33/50\n",
      "18/18 [==============================] - 0s 2ms/step - loss: 0.4436 - accuracy: 0.8003\n",
      "Epoch 34/50\n",
      "18/18 [==============================] - 0s 2ms/step - loss: 0.4426 - accuracy: 0.7986\n",
      "Epoch 35/50\n",
      "18/18 [==============================] - 0s 2ms/step - loss: 0.4414 - accuracy: 0.7986\n",
      "Epoch 36/50\n",
      "18/18 [==============================] - 0s 2ms/step - loss: 0.4403 - accuracy: 0.8021\n",
      "Epoch 37/50\n",
      "18/18 [==============================] - 0s 2ms/step - loss: 0.4394 - accuracy: 0.7986\n",
      "Epoch 38/50\n",
      "18/18 [==============================] - 0s 2ms/step - loss: 0.4383 - accuracy: 0.8003\n",
      "Epoch 39/50\n",
      "18/18 [==============================] - 0s 2ms/step - loss: 0.4376 - accuracy: 0.7986\n",
      "Epoch 40/50\n",
      "18/18 [==============================] - 0s 2ms/step - loss: 0.4369 - accuracy: 0.7986\n",
      "Epoch 41/50\n",
      "18/18 [==============================] - 0s 2ms/step - loss: 0.4360 - accuracy: 0.8021\n",
      "Epoch 42/50\n",
      "18/18 [==============================] - 0s 2ms/step - loss: 0.4353 - accuracy: 0.8090\n",
      "Epoch 43/50\n",
      "18/18 [==============================] - 0s 2ms/step - loss: 0.4351 - accuracy: 0.8073\n",
      "Epoch 44/50\n",
      "18/18 [==============================] - 0s 2ms/step - loss: 0.4339 - accuracy: 0.8108\n",
      "Epoch 45/50\n",
      "18/18 [==============================] - 0s 2ms/step - loss: 0.4334 - accuracy: 0.8056\n",
      "Epoch 46/50\n",
      "18/18 [==============================] - 0s 2ms/step - loss: 0.4329 - accuracy: 0.8056\n",
      "Epoch 47/50\n",
      "18/18 [==============================] - 0s 2ms/step - loss: 0.4321 - accuracy: 0.8056\n",
      "Epoch 48/50\n",
      "18/18 [==============================] - 0s 2ms/step - loss: 0.4319 - accuracy: 0.8038\n",
      "Epoch 49/50\n",
      "18/18 [==============================] - 0s 2ms/step - loss: 0.4312 - accuracy: 0.8056\n",
      "Epoch 50/50\n",
      "18/18 [==============================] - 0s 2ms/step - loss: 0.4307 - accuracy: 0.8073\n"
     ]
    }
   ],
   "source": [
    "fit_model = nn_model.fit(X_train_scaled, y_train, epochs=50)"
   ]
  },
  {
   "cell_type": "markdown",
   "id": "1f1eff64",
   "metadata": {},
   "source": [
    "### Evaluate the model using the test data"
   ]
  },
  {
   "cell_type": "code",
   "execution_count": 14,
   "id": "7c3f2491",
   "metadata": {},
   "outputs": [
    {
     "name": "stdout",
     "output_type": "stream",
     "text": [
      "6/6 - 0s - loss: 0.4726 - accuracy: 0.7396 - 160ms/epoch - 27ms/step\n",
      "Loss: 0.4725605249404907, Accuracy: 0.7395833134651184\n"
     ]
    }
   ],
   "source": [
    "model_loss, model_accuracy = nn_model.evaluate(X_test_scaled,y_test,verbose=2)\n",
    "print(f\"Loss: {model_loss}, Accuracy: {model_accuracy}\")"
   ]
  }
 ],
 "metadata": {
  "interpreter": {
   "hash": "4d974b64c1c29cc365b8929ad23b4a7a24907d593b120c5bbff7dea98c1521e2"
  },
  "kernelspec": {
   "display_name": "mlenv",
   "language": "python",
   "name": "python3"
  },
  "language_info": {
   "codemirror_mode": {
    "name": "ipython",
    "version": 3
   },
   "file_extension": ".py",
   "mimetype": "text/x-python",
   "name": "python",
   "nbconvert_exporter": "python",
   "pygments_lexer": "ipython3",
   "version": "3.7.11"
  }
 },
 "nbformat": 4,
 "nbformat_minor": 5
}
