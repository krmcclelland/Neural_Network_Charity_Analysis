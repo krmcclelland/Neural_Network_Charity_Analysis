{
 "cells": [
  {
   "cell_type": "markdown",
   "id": "82303af6",
   "metadata": {},
   "source": [
    "# 19.5.3 Support Vector Machine Vs. Deep Learning Model"
   ]
  },
  {
   "cell_type": "code",
   "execution_count": 1,
   "id": "bccf6d19",
   "metadata": {},
   "outputs": [],
   "source": [
    "from sklearn.model_selection import train_test_split\n",
    "from sklearn.preprocessing import StandardScaler,OneHotEncoder\n",
    "from sklearn.metrics import accuracy_score\n",
    "from sklearn.svm import SVC\n",
    "import pandas as pd\n",
    "import tensorflow as tf"
   ]
  },
  {
   "cell_type": "markdown",
   "id": "a7bebad2",
   "metadata": {},
   "source": [
    "## Import our input dataset"
   ]
  },
  {
   "cell_type": "code",
   "execution_count": 2,
   "id": "1bd15279",
   "metadata": {},
   "outputs": [
    {
     "data": {
      "text/html": [
       "<div>\n",
       "<style scoped>\n",
       "    .dataframe tbody tr th:only-of-type {\n",
       "        vertical-align: middle;\n",
       "    }\n",
       "\n",
       "    .dataframe tbody tr th {\n",
       "        vertical-align: top;\n",
       "    }\n",
       "\n",
       "    .dataframe thead th {\n",
       "        text-align: right;\n",
       "    }\n",
       "</style>\n",
       "<table border=\"1\" class=\"dataframe\">\n",
       "  <thead>\n",
       "    <tr style=\"text-align: right;\">\n",
       "      <th></th>\n",
       "      <th>Age</th>\n",
       "      <th>Job</th>\n",
       "      <th>Marital_Status</th>\n",
       "      <th>Education</th>\n",
       "      <th>Default_Credit</th>\n",
       "      <th>Housing_Loan</th>\n",
       "      <th>Personal_Loan</th>\n",
       "      <th>Subscribed</th>\n",
       "    </tr>\n",
       "  </thead>\n",
       "  <tbody>\n",
       "    <tr>\n",
       "      <th>0</th>\n",
       "      <td>56</td>\n",
       "      <td>other</td>\n",
       "      <td>married</td>\n",
       "      <td>Primary_Education</td>\n",
       "      <td>no</td>\n",
       "      <td>no</td>\n",
       "      <td>no</td>\n",
       "      <td>no</td>\n",
       "    </tr>\n",
       "    <tr>\n",
       "      <th>1</th>\n",
       "      <td>37</td>\n",
       "      <td>services</td>\n",
       "      <td>married</td>\n",
       "      <td>Secondary_Education</td>\n",
       "      <td>no</td>\n",
       "      <td>yes</td>\n",
       "      <td>no</td>\n",
       "      <td>no</td>\n",
       "    </tr>\n",
       "    <tr>\n",
       "      <th>2</th>\n",
       "      <td>40</td>\n",
       "      <td>admin</td>\n",
       "      <td>married</td>\n",
       "      <td>Primary_Education</td>\n",
       "      <td>no</td>\n",
       "      <td>no</td>\n",
       "      <td>no</td>\n",
       "      <td>no</td>\n",
       "    </tr>\n",
       "    <tr>\n",
       "      <th>3</th>\n",
       "      <td>56</td>\n",
       "      <td>services</td>\n",
       "      <td>married</td>\n",
       "      <td>Secondary_Education</td>\n",
       "      <td>no</td>\n",
       "      <td>no</td>\n",
       "      <td>yes</td>\n",
       "      <td>no</td>\n",
       "    </tr>\n",
       "    <tr>\n",
       "      <th>4</th>\n",
       "      <td>59</td>\n",
       "      <td>admin</td>\n",
       "      <td>married</td>\n",
       "      <td>Professional_Education</td>\n",
       "      <td>no</td>\n",
       "      <td>no</td>\n",
       "      <td>no</td>\n",
       "      <td>no</td>\n",
       "    </tr>\n",
       "  </tbody>\n",
       "</table>\n",
       "</div>"
      ],
      "text/plain": [
       "   Age       Job Marital_Status               Education Default_Credit  \\\n",
       "0   56     other        married       Primary_Education             no   \n",
       "1   37  services        married     Secondary_Education             no   \n",
       "2   40     admin        married       Primary_Education             no   \n",
       "3   56  services        married     Secondary_Education             no   \n",
       "4   59     admin        married  Professional_Education             no   \n",
       "\n",
       "  Housing_Loan Personal_Loan Subscribed  \n",
       "0           no            no         no  \n",
       "1          yes            no         no  \n",
       "2           no            no         no  \n",
       "3           no           yes         no  \n",
       "4           no            no         no  "
      ]
     },
     "execution_count": 2,
     "metadata": {},
     "output_type": "execute_result"
    }
   ],
   "source": [
    "tele_df = pd.read_csv('./Resources/bank_telemarketing.csv')\n",
    "tele_df.head()"
   ]
  },
  {
   "cell_type": "markdown",
   "id": "7487f0b0",
   "metadata": {},
   "source": [
    "## Generate our categorical variable list"
   ]
  },
  {
   "cell_type": "code",
   "execution_count": 3,
   "id": "a51782d9",
   "metadata": {},
   "outputs": [],
   "source": [
    "tele_cat = tele_df.dtypes[tele_df.dtypes == \"object\"].index.tolist()"
   ]
  },
  {
   "cell_type": "markdown",
   "id": "26f02f08",
   "metadata": {},
   "source": [
    "## Check the number of unique values in each column"
   ]
  },
  {
   "cell_type": "code",
   "execution_count": 4,
   "id": "83c5152e",
   "metadata": {},
   "outputs": [
    {
     "data": {
      "text/plain": [
       "Job               9\n",
       "Marital_Status    3\n",
       "Education         4\n",
       "Default_Credit    2\n",
       "Housing_Loan      2\n",
       "Personal_Loan     2\n",
       "Subscribed        2\n",
       "dtype: int64"
      ]
     },
     "execution_count": 4,
     "metadata": {},
     "output_type": "execute_result"
    }
   ],
   "source": [
    "tele_df[tele_cat].nunique()"
   ]
  },
  {
   "cell_type": "markdown",
   "id": "ef60a2ea",
   "metadata": {},
   "source": [
    "## Create a OneHotEncoder instance"
   ]
  },
  {
   "cell_type": "code",
   "execution_count": 5,
   "id": "389804b4",
   "metadata": {},
   "outputs": [],
   "source": [
    "enc = OneHotEncoder(sparse=False)"
   ]
  },
  {
   "cell_type": "markdown",
   "id": "794f01fa",
   "metadata": {},
   "source": [
    "## Fit and transform the OneHotEncoder using the categorical variable list"
   ]
  },
  {
   "cell_type": "code",
   "execution_count": 6,
   "id": "b5497f90",
   "metadata": {},
   "outputs": [],
   "source": [
    "encode_df = pd.DataFrame(enc.fit_transform(tele_df[tele_cat]))"
   ]
  },
  {
   "cell_type": "markdown",
   "id": "214632b1",
   "metadata": {},
   "source": [
    "## Add the encoded variable names to the dataframe"
   ]
  },
  {
   "cell_type": "code",
   "execution_count": 7,
   "id": "78546056",
   "metadata": {},
   "outputs": [
    {
     "name": "stderr",
     "output_type": "stream",
     "text": [
      "C:\\ProgramData\\Anaconda3\\envs\\Mlenv\\lib\\site-packages\\sklearn\\utils\\deprecation.py:87: FutureWarning: Function get_feature_names is deprecated; get_feature_names is deprecated in 1.0 and will be removed in 1.2. Please use get_feature_names_out instead.\n",
      "  warnings.warn(msg, category=FutureWarning)\n"
     ]
    },
    {
     "data": {
      "text/html": [
       "<div>\n",
       "<style scoped>\n",
       "    .dataframe tbody tr th:only-of-type {\n",
       "        vertical-align: middle;\n",
       "    }\n",
       "\n",
       "    .dataframe tbody tr th {\n",
       "        vertical-align: top;\n",
       "    }\n",
       "\n",
       "    .dataframe thead th {\n",
       "        text-align: right;\n",
       "    }\n",
       "</style>\n",
       "<table border=\"1\" class=\"dataframe\">\n",
       "  <thead>\n",
       "    <tr style=\"text-align: right;\">\n",
       "      <th></th>\n",
       "      <th>Job_admin</th>\n",
       "      <th>Job_blue-collar</th>\n",
       "      <th>Job_entrepreneur</th>\n",
       "      <th>Job_management</th>\n",
       "      <th>Job_other</th>\n",
       "      <th>Job_retired</th>\n",
       "      <th>Job_self-employed</th>\n",
       "      <th>Job_services</th>\n",
       "      <th>Job_technician</th>\n",
       "      <th>Marital_Status_divorced</th>\n",
       "      <th>...</th>\n",
       "      <th>Education_Secondary_Education</th>\n",
       "      <th>Education_Tertiary_Education</th>\n",
       "      <th>Default_Credit_no</th>\n",
       "      <th>Default_Credit_yes</th>\n",
       "      <th>Housing_Loan_no</th>\n",
       "      <th>Housing_Loan_yes</th>\n",
       "      <th>Personal_Loan_no</th>\n",
       "      <th>Personal_Loan_yes</th>\n",
       "      <th>Subscribed_no</th>\n",
       "      <th>Subscribed_yes</th>\n",
       "    </tr>\n",
       "  </thead>\n",
       "  <tbody>\n",
       "    <tr>\n",
       "      <th>0</th>\n",
       "      <td>0.0</td>\n",
       "      <td>0.0</td>\n",
       "      <td>0.0</td>\n",
       "      <td>0.0</td>\n",
       "      <td>1.0</td>\n",
       "      <td>0.0</td>\n",
       "      <td>0.0</td>\n",
       "      <td>0.0</td>\n",
       "      <td>0.0</td>\n",
       "      <td>0.0</td>\n",
       "      <td>...</td>\n",
       "      <td>0.0</td>\n",
       "      <td>0.0</td>\n",
       "      <td>1.0</td>\n",
       "      <td>0.0</td>\n",
       "      <td>1.0</td>\n",
       "      <td>0.0</td>\n",
       "      <td>1.0</td>\n",
       "      <td>0.0</td>\n",
       "      <td>1.0</td>\n",
       "      <td>0.0</td>\n",
       "    </tr>\n",
       "    <tr>\n",
       "      <th>1</th>\n",
       "      <td>0.0</td>\n",
       "      <td>0.0</td>\n",
       "      <td>0.0</td>\n",
       "      <td>0.0</td>\n",
       "      <td>0.0</td>\n",
       "      <td>0.0</td>\n",
       "      <td>0.0</td>\n",
       "      <td>1.0</td>\n",
       "      <td>0.0</td>\n",
       "      <td>0.0</td>\n",
       "      <td>...</td>\n",
       "      <td>1.0</td>\n",
       "      <td>0.0</td>\n",
       "      <td>1.0</td>\n",
       "      <td>0.0</td>\n",
       "      <td>0.0</td>\n",
       "      <td>1.0</td>\n",
       "      <td>1.0</td>\n",
       "      <td>0.0</td>\n",
       "      <td>1.0</td>\n",
       "      <td>0.0</td>\n",
       "    </tr>\n",
       "    <tr>\n",
       "      <th>2</th>\n",
       "      <td>1.0</td>\n",
       "      <td>0.0</td>\n",
       "      <td>0.0</td>\n",
       "      <td>0.0</td>\n",
       "      <td>0.0</td>\n",
       "      <td>0.0</td>\n",
       "      <td>0.0</td>\n",
       "      <td>0.0</td>\n",
       "      <td>0.0</td>\n",
       "      <td>0.0</td>\n",
       "      <td>...</td>\n",
       "      <td>0.0</td>\n",
       "      <td>0.0</td>\n",
       "      <td>1.0</td>\n",
       "      <td>0.0</td>\n",
       "      <td>1.0</td>\n",
       "      <td>0.0</td>\n",
       "      <td>1.0</td>\n",
       "      <td>0.0</td>\n",
       "      <td>1.0</td>\n",
       "      <td>0.0</td>\n",
       "    </tr>\n",
       "    <tr>\n",
       "      <th>3</th>\n",
       "      <td>0.0</td>\n",
       "      <td>0.0</td>\n",
       "      <td>0.0</td>\n",
       "      <td>0.0</td>\n",
       "      <td>0.0</td>\n",
       "      <td>0.0</td>\n",
       "      <td>0.0</td>\n",
       "      <td>1.0</td>\n",
       "      <td>0.0</td>\n",
       "      <td>0.0</td>\n",
       "      <td>...</td>\n",
       "      <td>1.0</td>\n",
       "      <td>0.0</td>\n",
       "      <td>1.0</td>\n",
       "      <td>0.0</td>\n",
       "      <td>1.0</td>\n",
       "      <td>0.0</td>\n",
       "      <td>0.0</td>\n",
       "      <td>1.0</td>\n",
       "      <td>1.0</td>\n",
       "      <td>0.0</td>\n",
       "    </tr>\n",
       "    <tr>\n",
       "      <th>4</th>\n",
       "      <td>1.0</td>\n",
       "      <td>0.0</td>\n",
       "      <td>0.0</td>\n",
       "      <td>0.0</td>\n",
       "      <td>0.0</td>\n",
       "      <td>0.0</td>\n",
       "      <td>0.0</td>\n",
       "      <td>0.0</td>\n",
       "      <td>0.0</td>\n",
       "      <td>0.0</td>\n",
       "      <td>...</td>\n",
       "      <td>0.0</td>\n",
       "      <td>0.0</td>\n",
       "      <td>1.0</td>\n",
       "      <td>0.0</td>\n",
       "      <td>1.0</td>\n",
       "      <td>0.0</td>\n",
       "      <td>1.0</td>\n",
       "      <td>0.0</td>\n",
       "      <td>1.0</td>\n",
       "      <td>0.0</td>\n",
       "    </tr>\n",
       "  </tbody>\n",
       "</table>\n",
       "<p>5 rows × 24 columns</p>\n",
       "</div>"
      ],
      "text/plain": [
       "   Job_admin  Job_blue-collar  Job_entrepreneur  Job_management  Job_other  \\\n",
       "0        0.0              0.0               0.0             0.0        1.0   \n",
       "1        0.0              0.0               0.0             0.0        0.0   \n",
       "2        1.0              0.0               0.0             0.0        0.0   \n",
       "3        0.0              0.0               0.0             0.0        0.0   \n",
       "4        1.0              0.0               0.0             0.0        0.0   \n",
       "\n",
       "   Job_retired  Job_self-employed  Job_services  Job_technician  \\\n",
       "0          0.0                0.0           0.0             0.0   \n",
       "1          0.0                0.0           1.0             0.0   \n",
       "2          0.0                0.0           0.0             0.0   \n",
       "3          0.0                0.0           1.0             0.0   \n",
       "4          0.0                0.0           0.0             0.0   \n",
       "\n",
       "   Marital_Status_divorced  ...  Education_Secondary_Education  \\\n",
       "0                      0.0  ...                            0.0   \n",
       "1                      0.0  ...                            1.0   \n",
       "2                      0.0  ...                            0.0   \n",
       "3                      0.0  ...                            1.0   \n",
       "4                      0.0  ...                            0.0   \n",
       "\n",
       "   Education_Tertiary_Education  Default_Credit_no  Default_Credit_yes  \\\n",
       "0                           0.0                1.0                 0.0   \n",
       "1                           0.0                1.0                 0.0   \n",
       "2                           0.0                1.0                 0.0   \n",
       "3                           0.0                1.0                 0.0   \n",
       "4                           0.0                1.0                 0.0   \n",
       "\n",
       "   Housing_Loan_no  Housing_Loan_yes  Personal_Loan_no  Personal_Loan_yes  \\\n",
       "0              1.0               0.0               1.0                0.0   \n",
       "1              0.0               1.0               1.0                0.0   \n",
       "2              1.0               0.0               1.0                0.0   \n",
       "3              1.0               0.0               0.0                1.0   \n",
       "4              1.0               0.0               1.0                0.0   \n",
       "\n",
       "   Subscribed_no  Subscribed_yes  \n",
       "0            1.0             0.0  \n",
       "1            1.0             0.0  \n",
       "2            1.0             0.0  \n",
       "3            1.0             0.0  \n",
       "4            1.0             0.0  \n",
       "\n",
       "[5 rows x 24 columns]"
      ]
     },
     "execution_count": 7,
     "metadata": {},
     "output_type": "execute_result"
    }
   ],
   "source": [
    "encode_df.columns = enc.get_feature_names(tele_cat)\n",
    "encode_df.head()"
   ]
  },
  {
   "cell_type": "markdown",
   "id": "0747be1e",
   "metadata": {},
   "source": [
    "## Merge one-hot encoded features and drop the originals"
   ]
  },
  {
   "cell_type": "code",
   "execution_count": 8,
   "id": "6042a913",
   "metadata": {},
   "outputs": [
    {
     "name": "stderr",
     "output_type": "stream",
     "text": [
      "C:\\ProgramData\\Anaconda3\\envs\\Mlenv\\lib\\site-packages\\ipykernel_launcher.py:2: FutureWarning: In a future version of pandas all arguments of DataFrame.drop except for the argument 'labels' will be keyword-only\n",
      "  \n"
     ]
    },
    {
     "data": {
      "text/html": [
       "<div>\n",
       "<style scoped>\n",
       "    .dataframe tbody tr th:only-of-type {\n",
       "        vertical-align: middle;\n",
       "    }\n",
       "\n",
       "    .dataframe tbody tr th {\n",
       "        vertical-align: top;\n",
       "    }\n",
       "\n",
       "    .dataframe thead th {\n",
       "        text-align: right;\n",
       "    }\n",
       "</style>\n",
       "<table border=\"1\" class=\"dataframe\">\n",
       "  <thead>\n",
       "    <tr style=\"text-align: right;\">\n",
       "      <th></th>\n",
       "      <th>Age</th>\n",
       "      <th>Job_admin</th>\n",
       "      <th>Job_blue-collar</th>\n",
       "      <th>Job_entrepreneur</th>\n",
       "      <th>Job_management</th>\n",
       "      <th>Job_other</th>\n",
       "      <th>Job_retired</th>\n",
       "      <th>Job_self-employed</th>\n",
       "      <th>Job_services</th>\n",
       "      <th>Job_technician</th>\n",
       "      <th>...</th>\n",
       "      <th>Education_Secondary_Education</th>\n",
       "      <th>Education_Tertiary_Education</th>\n",
       "      <th>Default_Credit_no</th>\n",
       "      <th>Default_Credit_yes</th>\n",
       "      <th>Housing_Loan_no</th>\n",
       "      <th>Housing_Loan_yes</th>\n",
       "      <th>Personal_Loan_no</th>\n",
       "      <th>Personal_Loan_yes</th>\n",
       "      <th>Subscribed_no</th>\n",
       "      <th>Subscribed_yes</th>\n",
       "    </tr>\n",
       "  </thead>\n",
       "  <tbody>\n",
       "    <tr>\n",
       "      <th>0</th>\n",
       "      <td>56</td>\n",
       "      <td>0.0</td>\n",
       "      <td>0.0</td>\n",
       "      <td>0.0</td>\n",
       "      <td>0.0</td>\n",
       "      <td>1.0</td>\n",
       "      <td>0.0</td>\n",
       "      <td>0.0</td>\n",
       "      <td>0.0</td>\n",
       "      <td>0.0</td>\n",
       "      <td>...</td>\n",
       "      <td>0.0</td>\n",
       "      <td>0.0</td>\n",
       "      <td>1.0</td>\n",
       "      <td>0.0</td>\n",
       "      <td>1.0</td>\n",
       "      <td>0.0</td>\n",
       "      <td>1.0</td>\n",
       "      <td>0.0</td>\n",
       "      <td>1.0</td>\n",
       "      <td>0.0</td>\n",
       "    </tr>\n",
       "    <tr>\n",
       "      <th>1</th>\n",
       "      <td>37</td>\n",
       "      <td>0.0</td>\n",
       "      <td>0.0</td>\n",
       "      <td>0.0</td>\n",
       "      <td>0.0</td>\n",
       "      <td>0.0</td>\n",
       "      <td>0.0</td>\n",
       "      <td>0.0</td>\n",
       "      <td>1.0</td>\n",
       "      <td>0.0</td>\n",
       "      <td>...</td>\n",
       "      <td>1.0</td>\n",
       "      <td>0.0</td>\n",
       "      <td>1.0</td>\n",
       "      <td>0.0</td>\n",
       "      <td>0.0</td>\n",
       "      <td>1.0</td>\n",
       "      <td>1.0</td>\n",
       "      <td>0.0</td>\n",
       "      <td>1.0</td>\n",
       "      <td>0.0</td>\n",
       "    </tr>\n",
       "    <tr>\n",
       "      <th>2</th>\n",
       "      <td>40</td>\n",
       "      <td>1.0</td>\n",
       "      <td>0.0</td>\n",
       "      <td>0.0</td>\n",
       "      <td>0.0</td>\n",
       "      <td>0.0</td>\n",
       "      <td>0.0</td>\n",
       "      <td>0.0</td>\n",
       "      <td>0.0</td>\n",
       "      <td>0.0</td>\n",
       "      <td>...</td>\n",
       "      <td>0.0</td>\n",
       "      <td>0.0</td>\n",
       "      <td>1.0</td>\n",
       "      <td>0.0</td>\n",
       "      <td>1.0</td>\n",
       "      <td>0.0</td>\n",
       "      <td>1.0</td>\n",
       "      <td>0.0</td>\n",
       "      <td>1.0</td>\n",
       "      <td>0.0</td>\n",
       "    </tr>\n",
       "    <tr>\n",
       "      <th>3</th>\n",
       "      <td>56</td>\n",
       "      <td>0.0</td>\n",
       "      <td>0.0</td>\n",
       "      <td>0.0</td>\n",
       "      <td>0.0</td>\n",
       "      <td>0.0</td>\n",
       "      <td>0.0</td>\n",
       "      <td>0.0</td>\n",
       "      <td>1.0</td>\n",
       "      <td>0.0</td>\n",
       "      <td>...</td>\n",
       "      <td>1.0</td>\n",
       "      <td>0.0</td>\n",
       "      <td>1.0</td>\n",
       "      <td>0.0</td>\n",
       "      <td>1.0</td>\n",
       "      <td>0.0</td>\n",
       "      <td>0.0</td>\n",
       "      <td>1.0</td>\n",
       "      <td>1.0</td>\n",
       "      <td>0.0</td>\n",
       "    </tr>\n",
       "    <tr>\n",
       "      <th>4</th>\n",
       "      <td>59</td>\n",
       "      <td>1.0</td>\n",
       "      <td>0.0</td>\n",
       "      <td>0.0</td>\n",
       "      <td>0.0</td>\n",
       "      <td>0.0</td>\n",
       "      <td>0.0</td>\n",
       "      <td>0.0</td>\n",
       "      <td>0.0</td>\n",
       "      <td>0.0</td>\n",
       "      <td>...</td>\n",
       "      <td>0.0</td>\n",
       "      <td>0.0</td>\n",
       "      <td>1.0</td>\n",
       "      <td>0.0</td>\n",
       "      <td>1.0</td>\n",
       "      <td>0.0</td>\n",
       "      <td>1.0</td>\n",
       "      <td>0.0</td>\n",
       "      <td>1.0</td>\n",
       "      <td>0.0</td>\n",
       "    </tr>\n",
       "  </tbody>\n",
       "</table>\n",
       "<p>5 rows × 25 columns</p>\n",
       "</div>"
      ],
      "text/plain": [
       "   Age  Job_admin  Job_blue-collar  Job_entrepreneur  Job_management  \\\n",
       "0   56        0.0              0.0               0.0             0.0   \n",
       "1   37        0.0              0.0               0.0             0.0   \n",
       "2   40        1.0              0.0               0.0             0.0   \n",
       "3   56        0.0              0.0               0.0             0.0   \n",
       "4   59        1.0              0.0               0.0             0.0   \n",
       "\n",
       "   Job_other  Job_retired  Job_self-employed  Job_services  Job_technician  \\\n",
       "0        1.0          0.0                0.0           0.0             0.0   \n",
       "1        0.0          0.0                0.0           1.0             0.0   \n",
       "2        0.0          0.0                0.0           0.0             0.0   \n",
       "3        0.0          0.0                0.0           1.0             0.0   \n",
       "4        0.0          0.0                0.0           0.0             0.0   \n",
       "\n",
       "   ...  Education_Secondary_Education  Education_Tertiary_Education  \\\n",
       "0  ...                            0.0                           0.0   \n",
       "1  ...                            1.0                           0.0   \n",
       "2  ...                            0.0                           0.0   \n",
       "3  ...                            1.0                           0.0   \n",
       "4  ...                            0.0                           0.0   \n",
       "\n",
       "   Default_Credit_no  Default_Credit_yes  Housing_Loan_no  Housing_Loan_yes  \\\n",
       "0                1.0                 0.0              1.0               0.0   \n",
       "1                1.0                 0.0              0.0               1.0   \n",
       "2                1.0                 0.0              1.0               0.0   \n",
       "3                1.0                 0.0              1.0               0.0   \n",
       "4                1.0                 0.0              1.0               0.0   \n",
       "\n",
       "   Personal_Loan_no  Personal_Loan_yes  Subscribed_no  Subscribed_yes  \n",
       "0               1.0                0.0            1.0             0.0  \n",
       "1               1.0                0.0            1.0             0.0  \n",
       "2               1.0                0.0            1.0             0.0  \n",
       "3               0.0                1.0            1.0             0.0  \n",
       "4               1.0                0.0            1.0             0.0  \n",
       "\n",
       "[5 rows x 25 columns]"
      ]
     },
     "execution_count": 8,
     "metadata": {},
     "output_type": "execute_result"
    }
   ],
   "source": [
    "tele_df = tele_df.merge(encode_df,left_index=True, right_index=True)\n",
    "tele_df = tele_df.drop(tele_cat,1)\n",
    "tele_df.head()"
   ]
  },
  {
   "cell_type": "markdown",
   "id": "1501ba71",
   "metadata": {},
   "source": [
    "## Remove loan status target from features data"
   ]
  },
  {
   "cell_type": "code",
   "execution_count": 9,
   "id": "2f3f5273",
   "metadata": {},
   "outputs": [],
   "source": [
    "y = tele_df.Subscribed_yes.values\n",
    "X = tele_df.drop(columns=[\"Subscribed_no\",\"Subscribed_yes\"]).values"
   ]
  },
  {
   "cell_type": "markdown",
   "id": "fe1a5aa1",
   "metadata": {},
   "source": [
    "## Split training/test datasets"
   ]
  },
  {
   "cell_type": "code",
   "execution_count": 10,
   "id": "4fc1bc87",
   "metadata": {},
   "outputs": [],
   "source": [
    "X_train, X_test, y_train, y_test = train_test_split(X, y, random_state=42, stratify=y)"
   ]
  },
  {
   "cell_type": "markdown",
   "id": "6a1c2654",
   "metadata": {},
   "source": [
    "## Create a StandardScaler instance"
   ]
  },
  {
   "cell_type": "code",
   "execution_count": 11,
   "id": "a55230fe",
   "metadata": {},
   "outputs": [],
   "source": [
    "scaler = StandardScaler()"
   ]
  },
  {
   "cell_type": "markdown",
   "id": "d28e4c15",
   "metadata": {},
   "source": [
    "## Fit the StandardScaler"
   ]
  },
  {
   "cell_type": "code",
   "execution_count": 12,
   "id": "230ad71d",
   "metadata": {},
   "outputs": [],
   "source": [
    "X_scaler = scaler.fit(X_train)"
   ]
  },
  {
   "cell_type": "markdown",
   "id": "9fdf05ae",
   "metadata": {},
   "source": [
    "## Scale the data"
   ]
  },
  {
   "cell_type": "code",
   "execution_count": 13,
   "id": "edd2fcdd",
   "metadata": {},
   "outputs": [],
   "source": [
    "X_train_scaled = X_scaler.transform(X_train)\n",
    "X_test_scaled = X_scaler.transform(X_test)"
   ]
  },
  {
   "cell_type": "markdown",
   "id": "ded90ad4",
   "metadata": {},
   "source": [
    "## Create the SVM model"
   ]
  },
  {
   "cell_type": "code",
   "execution_count": 14,
   "id": "7fe4ec15",
   "metadata": {},
   "outputs": [],
   "source": [
    "svm = SVC(kernel='linear')"
   ]
  },
  {
   "cell_type": "markdown",
   "id": "1d22ca0a",
   "metadata": {},
   "source": [
    "## Train the model"
   ]
  },
  {
   "cell_type": "code",
   "execution_count": 15,
   "id": "5f954989",
   "metadata": {},
   "outputs": [
    {
     "data": {
      "text/plain": [
       "SVC(kernel='linear')"
      ]
     },
     "execution_count": 15,
     "metadata": {},
     "output_type": "execute_result"
    }
   ],
   "source": [
    "svm.fit(X_train, y_train)"
   ]
  },
  {
   "cell_type": "markdown",
   "id": "aae4b2c0",
   "metadata": {},
   "source": [
    "## Evaluate the model"
   ]
  },
  {
   "cell_type": "code",
   "execution_count": 16,
   "id": "a315bf92",
   "metadata": {},
   "outputs": [
    {
     "name": "stdout",
     "output_type": "stream",
     "text": [
      " SVM model accuracy: 0.873\n"
     ]
    }
   ],
   "source": [
    "y_pred = svm.predict(X_test_scaled)\n",
    "print(f\" SVM model accuracy: {accuracy_score(y_test,y_pred):.3f}\")"
   ]
  },
  {
   "cell_type": "markdown",
   "id": "151c42e7",
   "metadata": {},
   "source": [
    "## Define the model - deep neural net"
   ]
  },
  {
   "cell_type": "code",
   "execution_count": 17,
   "id": "e43f5880",
   "metadata": {},
   "outputs": [],
   "source": [
    "number_input_features = len(X_train_scaled[0])\n",
    "hidden_nodes_layer1 =  10\n",
    "hidden_nodes_layer2 = 5\n",
    "\n",
    "nn = tf.keras.models.Sequential()"
   ]
  },
  {
   "cell_type": "markdown",
   "id": "5b8f1982",
   "metadata": {},
   "source": [
    "## First hidden layer"
   ]
  },
  {
   "cell_type": "code",
   "execution_count": 18,
   "id": "d2b64bc1",
   "metadata": {},
   "outputs": [],
   "source": [
    "nn.add(\n",
    "    tf.keras.layers.Dense(units=hidden_nodes_layer1, input_dim=number_input_features, activation=\"relu\")\n",
    ")"
   ]
  },
  {
   "cell_type": "markdown",
   "id": "d6b1035e",
   "metadata": {},
   "source": [
    "## Second hidden layer"
   ]
  },
  {
   "cell_type": "code",
   "execution_count": 19,
   "id": "5e225947",
   "metadata": {},
   "outputs": [],
   "source": [
    "nn.add(tf.keras.layers.Dense(units=hidden_nodes_layer2, activation=\"relu\"))"
   ]
  },
  {
   "cell_type": "markdown",
   "id": "85c7ebed",
   "metadata": {},
   "source": [
    "## Output layer"
   ]
  },
  {
   "cell_type": "code",
   "execution_count": 20,
   "id": "949c29a7",
   "metadata": {},
   "outputs": [],
   "source": [
    "nn.add(tf.keras.layers.Dense(units=1, activation=\"sigmoid\"))"
   ]
  },
  {
   "cell_type": "markdown",
   "id": "7403a1ab",
   "metadata": {},
   "source": [
    "## Compile the Sequential model together and customize metrics"
   ]
  },
  {
   "cell_type": "code",
   "execution_count": 21,
   "id": "f4a04861",
   "metadata": {},
   "outputs": [],
   "source": [
    "nn.compile(loss=\"binary_crossentropy\", optimizer=\"adam\", metrics=[\"accuracy\"])"
   ]
  },
  {
   "cell_type": "markdown",
   "id": "fa373771",
   "metadata": {},
   "source": [
    "## Train the model "
   ]
  },
  {
   "cell_type": "code",
   "execution_count": 22,
   "id": "de70af8e",
   "metadata": {},
   "outputs": [
    {
     "name": "stdout",
     "output_type": "stream",
     "text": [
      "Epoch 1/50\n",
      "715/715 [==============================] - 1s 1ms/step - loss: 0.4220 - accuracy: 0.8696\n",
      "Epoch 2/50\n",
      "715/715 [==============================] - 1s 1ms/step - loss: 0.3736 - accuracy: 0.8735\n",
      "Epoch 3/50\n",
      "715/715 [==============================] - 1s 2ms/step - loss: 0.3705 - accuracy: 0.8735\n",
      "Epoch 4/50\n",
      "715/715 [==============================] - 1s 2ms/step - loss: 0.3690 - accuracy: 0.8735\n",
      "Epoch 5/50\n",
      "715/715 [==============================] - 1s 2ms/step - loss: 0.3680 - accuracy: 0.8735\n",
      "Epoch 6/50\n",
      "715/715 [==============================] - 1s 1ms/step - loss: 0.3676 - accuracy: 0.8735\n",
      "Epoch 7/50\n",
      "715/715 [==============================] - 1s 1ms/step - loss: 0.3673 - accuracy: 0.8735\n",
      "Epoch 8/50\n",
      "715/715 [==============================] - 1s 1ms/step - loss: 0.3667 - accuracy: 0.8735\n",
      "Epoch 9/50\n",
      "715/715 [==============================] - 1s 1ms/step - loss: 0.3665 - accuracy: 0.8735\n",
      "Epoch 10/50\n",
      "715/715 [==============================] - 1s 1ms/step - loss: 0.3661 - accuracy: 0.8735\n",
      "Epoch 11/50\n",
      "715/715 [==============================] - 1s 1ms/step - loss: 0.3659 - accuracy: 0.8735\n",
      "Epoch 12/50\n",
      "715/715 [==============================] - 1s 1ms/step - loss: 0.3657 - accuracy: 0.8735\n",
      "Epoch 13/50\n",
      "715/715 [==============================] - 1s 1ms/step - loss: 0.3651 - accuracy: 0.8735\n",
      "Epoch 14/50\n",
      "715/715 [==============================] - 1s 1ms/step - loss: 0.3651 - accuracy: 0.8735\n",
      "Epoch 15/50\n",
      "715/715 [==============================] - 1s 1ms/step - loss: 0.3650 - accuracy: 0.8735\n",
      "Epoch 16/50\n",
      "715/715 [==============================] - 1s 1ms/step - loss: 0.3646 - accuracy: 0.8735\n",
      "Epoch 17/50\n",
      "715/715 [==============================] - 1s 1ms/step - loss: 0.3645 - accuracy: 0.8735\n",
      "Epoch 18/50\n",
      "715/715 [==============================] - 1s 1ms/step - loss: 0.3645 - accuracy: 0.8735\n",
      "Epoch 19/50\n",
      "715/715 [==============================] - 1s 1ms/step - loss: 0.3641 - accuracy: 0.8735\n",
      "Epoch 20/50\n",
      "715/715 [==============================] - 1s 1ms/step - loss: 0.3637 - accuracy: 0.8735\n",
      "Epoch 21/50\n",
      "715/715 [==============================] - 1s 1ms/step - loss: 0.3639 - accuracy: 0.8735\n",
      "Epoch 22/50\n",
      "715/715 [==============================] - 1s 2ms/step - loss: 0.3638 - accuracy: 0.8735\n",
      "Epoch 23/50\n",
      "715/715 [==============================] - 1s 2ms/step - loss: 0.3638 - accuracy: 0.8735\n",
      "Epoch 24/50\n",
      "715/715 [==============================] - 1s 2ms/step - loss: 0.3637 - accuracy: 0.8735\n",
      "Epoch 25/50\n",
      "715/715 [==============================] - 1s 1ms/step - loss: 0.3635 - accuracy: 0.8735\n",
      "Epoch 26/50\n",
      "715/715 [==============================] - 1s 1ms/step - loss: 0.3636 - accuracy: 0.8735\n",
      "Epoch 27/50\n",
      "715/715 [==============================] - 1s 1ms/step - loss: 0.3633 - accuracy: 0.8735\n",
      "Epoch 28/50\n",
      "715/715 [==============================] - 1s 1ms/step - loss: 0.3633 - accuracy: 0.8735\n",
      "Epoch 29/50\n",
      "715/715 [==============================] - 1s 1ms/step - loss: 0.3632 - accuracy: 0.8735\n",
      "Epoch 30/50\n",
      "715/715 [==============================] - 1s 1ms/step - loss: 0.3633 - accuracy: 0.8735\n",
      "Epoch 31/50\n",
      "715/715 [==============================] - 1s 1ms/step - loss: 0.3632 - accuracy: 0.8735\n",
      "Epoch 32/50\n",
      "715/715 [==============================] - 1s 1ms/step - loss: 0.3632 - accuracy: 0.8735\n",
      "Epoch 33/50\n",
      "715/715 [==============================] - 1s 1ms/step - loss: 0.3633 - accuracy: 0.8735\n",
      "Epoch 34/50\n",
      "715/715 [==============================] - 1s 2ms/step - loss: 0.3632 - accuracy: 0.8735\n",
      "Epoch 35/50\n",
      "715/715 [==============================] - 1s 2ms/step - loss: 0.3631 - accuracy: 0.8734\n",
      "Epoch 36/50\n",
      "715/715 [==============================] - 1s 1ms/step - loss: 0.3629 - accuracy: 0.8737\n",
      "Epoch 37/50\n",
      "715/715 [==============================] - 1s 1ms/step - loss: 0.3629 - accuracy: 0.8736\n",
      "Epoch 38/50\n",
      "715/715 [==============================] - 1s 1ms/step - loss: 0.3628 - accuracy: 0.8736\n",
      "Epoch 39/50\n",
      "715/715 [==============================] - 1s 1ms/step - loss: 0.3628 - accuracy: 0.8737\n",
      "Epoch 40/50\n",
      "715/715 [==============================] - 1s 1ms/step - loss: 0.3629 - accuracy: 0.8734\n",
      "Epoch 41/50\n",
      "715/715 [==============================] - 1s 1ms/step - loss: 0.3630 - accuracy: 0.8735\n",
      "Epoch 42/50\n",
      "715/715 [==============================] - 1s 1ms/step - loss: 0.3628 - accuracy: 0.8735\n",
      "Epoch 43/50\n",
      "715/715 [==============================] - 1s 2ms/step - loss: 0.3627 - accuracy: 0.8736\n",
      "Epoch 44/50\n",
      "715/715 [==============================] - 1s 1ms/step - loss: 0.3626 - accuracy: 0.8735\n",
      "Epoch 45/50\n",
      "715/715 [==============================] - 1s 1ms/step - loss: 0.3627 - accuracy: 0.8736\n",
      "Epoch 46/50\n",
      "715/715 [==============================] - 1s 1ms/step - loss: 0.3626 - accuracy: 0.8735\n",
      "Epoch 47/50\n",
      "715/715 [==============================] - 1s 1ms/step - loss: 0.3627 - accuracy: 0.8737\n",
      "Epoch 48/50\n",
      "715/715 [==============================] - 1s 1ms/step - loss: 0.3626 - accuracy: 0.8737\n",
      "Epoch 49/50\n",
      "715/715 [==============================] - 1s 1ms/step - loss: 0.3622 - accuracy: 0.8737\n",
      "Epoch 50/50\n",
      "715/715 [==============================] - 1s 1ms/step - loss: 0.3627 - accuracy: 0.8737\n"
     ]
    }
   ],
   "source": [
    "fit_model = nn.fit(X_train_scaled, y_train, epochs=50) "
   ]
  },
  {
   "cell_type": "markdown",
   "id": "7825740a",
   "metadata": {},
   "source": [
    "## Evaluate the model using the test data "
   ]
  },
  {
   "cell_type": "code",
   "execution_count": 23,
   "id": "eb8dba89",
   "metadata": {},
   "outputs": [
    {
     "name": "stdout",
     "output_type": "stream",
     "text": [
      "239/239 - 0s - loss: 0.3691 - accuracy: 0.8735 - 311ms/epoch - 1ms/step\n",
      "Loss: 0.369083046913147, Accuracy: 0.8734908103942871\n"
     ]
    }
   ],
   "source": [
    "model_loss, model_accuracy = nn.evaluate(X_test_scaled,y_test,verbose=2)\n",
    "print(f\"Loss: {model_loss}, Accuracy: {model_accuracy}\")"
   ]
  }
 ],
 "metadata": {
  "interpreter": {
   "hash": "4d974b64c1c29cc365b8929ad23b4a7a24907d593b120c5bbff7dea98c1521e2"
  },
  "kernelspec": {
   "display_name": "mlenv",
   "language": "python",
   "name": "python3"
  },
  "language_info": {
   "codemirror_mode": {
    "name": "ipython",
    "version": 3
   },
   "file_extension": ".py",
   "mimetype": "text/x-python",
   "name": "python",
   "nbconvert_exporter": "python",
   "pygments_lexer": "ipython3",
   "version": "3.7.11"
  }
 },
 "nbformat": 4,
 "nbformat_minor": 5
}
