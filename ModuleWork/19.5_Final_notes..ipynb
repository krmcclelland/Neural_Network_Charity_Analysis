{
 "cells": [
  {
   "cell_type": "markdown",
   "id": "215cb330",
   "metadata": {},
   "source": [
    "# 19.5.4 Random Forest Vs. Deep Learning Model"
   ]
  },
  {
   "cell_type": "markdown",
   "id": "c4c2950d",
   "metadata": {},
   "source": [
    "## skipped skill drill"
   ]
  },
  {
   "cell_type": "markdown",
   "id": "e25acc8a",
   "metadata": {},
   "source": [
    "## Import our dependencies"
   ]
  },
  {
   "cell_type": "code",
   "execution_count": 1,
   "id": "0ce43cb1",
   "metadata": {},
   "outputs": [],
   "source": [
    "from sklearn.model_selection import train_test_split\n",
    "from sklearn.preprocessing import StandardScaler\n",
    "from sklearn.ensemble import RandomForestClassifier\n",
    "from sklearn.metrics import accuracy_score\n",
    "from sklearn.preprocessing import OneHotEncoder\n",
    "import pandas as pd\n",
    "import tensorflow as tf"
   ]
  },
  {
   "cell_type": "markdown",
   "id": "949d9d2c",
   "metadata": {},
   "source": [
    "## Import our input dataset"
   ]
  },
  {
   "cell_type": "code",
   "execution_count": 2,
   "id": "c3e024fe",
   "metadata": {},
   "outputs": [
    {
     "data": {
      "text/html": [
       "<div>\n",
       "<style scoped>\n",
       "    .dataframe tbody tr th:only-of-type {\n",
       "        vertical-align: middle;\n",
       "    }\n",
       "\n",
       "    .dataframe tbody tr th {\n",
       "        vertical-align: top;\n",
       "    }\n",
       "\n",
       "    .dataframe thead th {\n",
       "        text-align: right;\n",
       "    }\n",
       "</style>\n",
       "<table border=\"1\" class=\"dataframe\">\n",
       "  <thead>\n",
       "    <tr style=\"text-align: right;\">\n",
       "      <th></th>\n",
       "      <th>Loan_Status</th>\n",
       "      <th>Current_Loan_Amount</th>\n",
       "      <th>Term</th>\n",
       "      <th>Credit_Score</th>\n",
       "      <th>Annual_Income</th>\n",
       "      <th>Years_in_current_job</th>\n",
       "      <th>Home_Ownership</th>\n",
       "      <th>Purpose</th>\n",
       "      <th>Monthly_Debt</th>\n",
       "      <th>Years_of_Credit_History</th>\n",
       "      <th>Months_since_last_delinquent</th>\n",
       "      <th>Number_of_Open_Accounts</th>\n",
       "      <th>Number_of_Credit_Problems</th>\n",
       "      <th>Current_Credit_Balance</th>\n",
       "      <th>Maximum_Open_Credit</th>\n",
       "      <th>Bankruptcies</th>\n",
       "      <th>Tax_Liens</th>\n",
       "    </tr>\n",
       "  </thead>\n",
       "  <tbody>\n",
       "    <tr>\n",
       "      <th>0</th>\n",
       "      <td>Fully_Paid</td>\n",
       "      <td>99999999</td>\n",
       "      <td>Short_Term</td>\n",
       "      <td>741.0</td>\n",
       "      <td>2231892.0</td>\n",
       "      <td>8_years</td>\n",
       "      <td>Own_Home</td>\n",
       "      <td>Debt_Consolidation</td>\n",
       "      <td>29200.53</td>\n",
       "      <td>14.9</td>\n",
       "      <td>29.0</td>\n",
       "      <td>18</td>\n",
       "      <td>1</td>\n",
       "      <td>297996</td>\n",
       "      <td>750090.0</td>\n",
       "      <td>0.0</td>\n",
       "      <td>0.0</td>\n",
       "    </tr>\n",
       "    <tr>\n",
       "      <th>1</th>\n",
       "      <td>Fully_Paid</td>\n",
       "      <td>217646</td>\n",
       "      <td>Short_Term</td>\n",
       "      <td>730.0</td>\n",
       "      <td>1184194.0</td>\n",
       "      <td>&lt;_1_year</td>\n",
       "      <td>Home_Mortgage</td>\n",
       "      <td>Debt_Consolidation</td>\n",
       "      <td>10855.08</td>\n",
       "      <td>19.6</td>\n",
       "      <td>10.0</td>\n",
       "      <td>13</td>\n",
       "      <td>1</td>\n",
       "      <td>122170</td>\n",
       "      <td>272052.0</td>\n",
       "      <td>1.0</td>\n",
       "      <td>0.0</td>\n",
       "    </tr>\n",
       "    <tr>\n",
       "      <th>2</th>\n",
       "      <td>Fully_Paid</td>\n",
       "      <td>548746</td>\n",
       "      <td>Short_Term</td>\n",
       "      <td>678.0</td>\n",
       "      <td>2559110.0</td>\n",
       "      <td>2_years</td>\n",
       "      <td>Rent</td>\n",
       "      <td>Debt_Consolidation</td>\n",
       "      <td>18660.28</td>\n",
       "      <td>22.6</td>\n",
       "      <td>33.0</td>\n",
       "      <td>4</td>\n",
       "      <td>0</td>\n",
       "      <td>437171</td>\n",
       "      <td>555038.0</td>\n",
       "      <td>0.0</td>\n",
       "      <td>0.0</td>\n",
       "    </tr>\n",
       "    <tr>\n",
       "      <th>3</th>\n",
       "      <td>Fully_Paid</td>\n",
       "      <td>99999999</td>\n",
       "      <td>Short_Term</td>\n",
       "      <td>728.0</td>\n",
       "      <td>714628.0</td>\n",
       "      <td>3_years</td>\n",
       "      <td>Rent</td>\n",
       "      <td>Debt_Consolidation</td>\n",
       "      <td>11851.06</td>\n",
       "      <td>16.0</td>\n",
       "      <td>76.0</td>\n",
       "      <td>16</td>\n",
       "      <td>0</td>\n",
       "      <td>203965</td>\n",
       "      <td>289784.0</td>\n",
       "      <td>0.0</td>\n",
       "      <td>0.0</td>\n",
       "    </tr>\n",
       "    <tr>\n",
       "      <th>4</th>\n",
       "      <td>Fully_Paid</td>\n",
       "      <td>99999999</td>\n",
       "      <td>Short_Term</td>\n",
       "      <td>740.0</td>\n",
       "      <td>776188.0</td>\n",
       "      <td>&lt;_1_year</td>\n",
       "      <td>Own_Home</td>\n",
       "      <td>Debt_Consolidation</td>\n",
       "      <td>11578.22</td>\n",
       "      <td>8.5</td>\n",
       "      <td>25.0</td>\n",
       "      <td>6</td>\n",
       "      <td>0</td>\n",
       "      <td>134083</td>\n",
       "      <td>220220.0</td>\n",
       "      <td>0.0</td>\n",
       "      <td>0.0</td>\n",
       "    </tr>\n",
       "  </tbody>\n",
       "</table>\n",
       "</div>"
      ],
      "text/plain": [
       "  Loan_Status  Current_Loan_Amount        Term  Credit_Score  Annual_Income  \\\n",
       "0  Fully_Paid             99999999  Short_Term         741.0      2231892.0   \n",
       "1  Fully_Paid               217646  Short_Term         730.0      1184194.0   \n",
       "2  Fully_Paid               548746  Short_Term         678.0      2559110.0   \n",
       "3  Fully_Paid             99999999  Short_Term         728.0       714628.0   \n",
       "4  Fully_Paid             99999999  Short_Term         740.0       776188.0   \n",
       "\n",
       "  Years_in_current_job Home_Ownership             Purpose  Monthly_Debt  \\\n",
       "0              8_years       Own_Home  Debt_Consolidation      29200.53   \n",
       "1             <_1_year  Home_Mortgage  Debt_Consolidation      10855.08   \n",
       "2              2_years           Rent  Debt_Consolidation      18660.28   \n",
       "3              3_years           Rent  Debt_Consolidation      11851.06   \n",
       "4             <_1_year       Own_Home  Debt_Consolidation      11578.22   \n",
       "\n",
       "   Years_of_Credit_History  Months_since_last_delinquent  \\\n",
       "0                     14.9                          29.0   \n",
       "1                     19.6                          10.0   \n",
       "2                     22.6                          33.0   \n",
       "3                     16.0                          76.0   \n",
       "4                      8.5                          25.0   \n",
       "\n",
       "   Number_of_Open_Accounts  Number_of_Credit_Problems  Current_Credit_Balance  \\\n",
       "0                       18                          1                  297996   \n",
       "1                       13                          1                  122170   \n",
       "2                        4                          0                  437171   \n",
       "3                       16                          0                  203965   \n",
       "4                        6                          0                  134083   \n",
       "\n",
       "   Maximum_Open_Credit  Bankruptcies  Tax_Liens  \n",
       "0             750090.0           0.0        0.0  \n",
       "1             272052.0           1.0        0.0  \n",
       "2             555038.0           0.0        0.0  \n",
       "3             289784.0           0.0        0.0  \n",
       "4             220220.0           0.0        0.0  "
      ]
     },
     "execution_count": 2,
     "metadata": {},
     "output_type": "execute_result"
    }
   ],
   "source": [
    "loans_df = pd.read_csv('./Resources/loan_status.csv')\n",
    "loans_df.head()"
   ]
  },
  {
   "cell_type": "code",
   "execution_count": 3,
   "id": "4dcbd350",
   "metadata": {},
   "outputs": [],
   "source": [
    "# Generate our categorical variable list"
   ]
  },
  {
   "cell_type": "code",
   "execution_count": 4,
   "id": "00b04170",
   "metadata": {},
   "outputs": [],
   "source": [
    "loans_cat = loans_df.dtypes[loans_df.dtypes == \"object\"].index.tolist()"
   ]
  },
  {
   "cell_type": "markdown",
   "id": "6c4f8c63",
   "metadata": {},
   "source": [
    "## Check the number of unique values in each column"
   ]
  },
  {
   "cell_type": "code",
   "execution_count": 5,
   "id": "5584e8e5",
   "metadata": {},
   "outputs": [
    {
     "data": {
      "text/plain": [
       "Loan_Status              2\n",
       "Term                     2\n",
       "Years_in_current_job    11\n",
       "Home_Ownership           4\n",
       "Purpose                  7\n",
       "dtype: int64"
      ]
     },
     "execution_count": 5,
     "metadata": {},
     "output_type": "execute_result"
    }
   ],
   "source": [
    "loans_df[loans_cat].nunique()"
   ]
  },
  {
   "cell_type": "markdown",
   "id": "d6392c92",
   "metadata": {},
   "source": [
    "## Check the unique value counts to see if binning is required"
   ]
  },
  {
   "cell_type": "code",
   "execution_count": 6,
   "id": "8230e48d",
   "metadata": {},
   "outputs": [
    {
     "data": {
      "text/plain": [
       "10+_years    13149\n",
       "2_years       3225\n",
       "3_years       2997\n",
       "<_1_year      2699\n",
       "5_years       2487\n",
       "4_years       2286\n",
       "1_year        2247\n",
       "6_years       2109\n",
       "7_years       2082\n",
       "8_years       1675\n",
       "9_years       1467\n",
       "Name: Years_in_current_job, dtype: int64"
      ]
     },
     "execution_count": 6,
     "metadata": {},
     "output_type": "execute_result"
    }
   ],
   "source": [
    "loans_df.Years_in_current_job.value_counts()"
   ]
  },
  {
   "cell_type": "markdown",
   "id": "7c65a00e",
   "metadata": {},
   "source": [
    "## Create a OneHotEncoder instance"
   ]
  },
  {
   "cell_type": "code",
   "execution_count": 7,
   "id": "2caa6cf0",
   "metadata": {},
   "outputs": [],
   "source": [
    "enc = OneHotEncoder(sparse=False)"
   ]
  },
  {
   "cell_type": "markdown",
   "id": "32136e7f",
   "metadata": {},
   "source": [
    "## Fit and transform the OneHotEncoder using the categorical variable list"
   ]
  },
  {
   "cell_type": "code",
   "execution_count": 8,
   "id": "d3bba432",
   "metadata": {},
   "outputs": [],
   "source": [
    "encode_df = pd.DataFrame(enc.fit_transform(loans_df[loans_cat]))"
   ]
  },
  {
   "cell_type": "markdown",
   "id": "5d951289",
   "metadata": {},
   "source": [
    "## Add the encoded variable names to the DataFrame"
   ]
  },
  {
   "cell_type": "code",
   "execution_count": 9,
   "id": "e0a2bf4b",
   "metadata": {},
   "outputs": [
    {
     "name": "stderr",
     "output_type": "stream",
     "text": [
      "C:\\ProgramData\\Anaconda3\\envs\\Mlenv\\lib\\site-packages\\sklearn\\utils\\deprecation.py:87: FutureWarning: Function get_feature_names is deprecated; get_feature_names is deprecated in 1.0 and will be removed in 1.2. Please use get_feature_names_out instead.\n",
      "  warnings.warn(msg, category=FutureWarning)\n"
     ]
    },
    {
     "data": {
      "text/html": [
       "<div>\n",
       "<style scoped>\n",
       "    .dataframe tbody tr th:only-of-type {\n",
       "        vertical-align: middle;\n",
       "    }\n",
       "\n",
       "    .dataframe tbody tr th {\n",
       "        vertical-align: top;\n",
       "    }\n",
       "\n",
       "    .dataframe thead th {\n",
       "        text-align: right;\n",
       "    }\n",
       "</style>\n",
       "<table border=\"1\" class=\"dataframe\">\n",
       "  <thead>\n",
       "    <tr style=\"text-align: right;\">\n",
       "      <th></th>\n",
       "      <th>Loan_Status_Fully_Paid</th>\n",
       "      <th>Loan_Status_Not_Paid</th>\n",
       "      <th>Term_Long_Term</th>\n",
       "      <th>Term_Short_Term</th>\n",
       "      <th>Years_in_current_job_10+_years</th>\n",
       "      <th>Years_in_current_job_1_year</th>\n",
       "      <th>Years_in_current_job_2_years</th>\n",
       "      <th>Years_in_current_job_3_years</th>\n",
       "      <th>Years_in_current_job_4_years</th>\n",
       "      <th>Years_in_current_job_5_years</th>\n",
       "      <th>...</th>\n",
       "      <th>Home_Ownership_Home_Mortgage</th>\n",
       "      <th>Home_Ownership_Own_Home</th>\n",
       "      <th>Home_Ownership_Rent</th>\n",
       "      <th>Purpose_Business_Loan</th>\n",
       "      <th>Purpose_Buy_House</th>\n",
       "      <th>Purpose_Buy_a_Car</th>\n",
       "      <th>Purpose_Debt_Consolidation</th>\n",
       "      <th>Purpose_Home_Improvements</th>\n",
       "      <th>Purpose_Medical_Bills</th>\n",
       "      <th>Purpose_Other</th>\n",
       "    </tr>\n",
       "  </thead>\n",
       "  <tbody>\n",
       "    <tr>\n",
       "      <th>0</th>\n",
       "      <td>1.0</td>\n",
       "      <td>0.0</td>\n",
       "      <td>0.0</td>\n",
       "      <td>1.0</td>\n",
       "      <td>0.0</td>\n",
       "      <td>0.0</td>\n",
       "      <td>0.0</td>\n",
       "      <td>0.0</td>\n",
       "      <td>0.0</td>\n",
       "      <td>0.0</td>\n",
       "      <td>...</td>\n",
       "      <td>0.0</td>\n",
       "      <td>1.0</td>\n",
       "      <td>0.0</td>\n",
       "      <td>0.0</td>\n",
       "      <td>0.0</td>\n",
       "      <td>0.0</td>\n",
       "      <td>1.0</td>\n",
       "      <td>0.0</td>\n",
       "      <td>0.0</td>\n",
       "      <td>0.0</td>\n",
       "    </tr>\n",
       "    <tr>\n",
       "      <th>1</th>\n",
       "      <td>1.0</td>\n",
       "      <td>0.0</td>\n",
       "      <td>0.0</td>\n",
       "      <td>1.0</td>\n",
       "      <td>0.0</td>\n",
       "      <td>0.0</td>\n",
       "      <td>0.0</td>\n",
       "      <td>0.0</td>\n",
       "      <td>0.0</td>\n",
       "      <td>0.0</td>\n",
       "      <td>...</td>\n",
       "      <td>1.0</td>\n",
       "      <td>0.0</td>\n",
       "      <td>0.0</td>\n",
       "      <td>0.0</td>\n",
       "      <td>0.0</td>\n",
       "      <td>0.0</td>\n",
       "      <td>1.0</td>\n",
       "      <td>0.0</td>\n",
       "      <td>0.0</td>\n",
       "      <td>0.0</td>\n",
       "    </tr>\n",
       "    <tr>\n",
       "      <th>2</th>\n",
       "      <td>1.0</td>\n",
       "      <td>0.0</td>\n",
       "      <td>0.0</td>\n",
       "      <td>1.0</td>\n",
       "      <td>0.0</td>\n",
       "      <td>0.0</td>\n",
       "      <td>1.0</td>\n",
       "      <td>0.0</td>\n",
       "      <td>0.0</td>\n",
       "      <td>0.0</td>\n",
       "      <td>...</td>\n",
       "      <td>0.0</td>\n",
       "      <td>0.0</td>\n",
       "      <td>1.0</td>\n",
       "      <td>0.0</td>\n",
       "      <td>0.0</td>\n",
       "      <td>0.0</td>\n",
       "      <td>1.0</td>\n",
       "      <td>0.0</td>\n",
       "      <td>0.0</td>\n",
       "      <td>0.0</td>\n",
       "    </tr>\n",
       "    <tr>\n",
       "      <th>3</th>\n",
       "      <td>1.0</td>\n",
       "      <td>0.0</td>\n",
       "      <td>0.0</td>\n",
       "      <td>1.0</td>\n",
       "      <td>0.0</td>\n",
       "      <td>0.0</td>\n",
       "      <td>0.0</td>\n",
       "      <td>1.0</td>\n",
       "      <td>0.0</td>\n",
       "      <td>0.0</td>\n",
       "      <td>...</td>\n",
       "      <td>0.0</td>\n",
       "      <td>0.0</td>\n",
       "      <td>1.0</td>\n",
       "      <td>0.0</td>\n",
       "      <td>0.0</td>\n",
       "      <td>0.0</td>\n",
       "      <td>1.0</td>\n",
       "      <td>0.0</td>\n",
       "      <td>0.0</td>\n",
       "      <td>0.0</td>\n",
       "    </tr>\n",
       "    <tr>\n",
       "      <th>4</th>\n",
       "      <td>1.0</td>\n",
       "      <td>0.0</td>\n",
       "      <td>0.0</td>\n",
       "      <td>1.0</td>\n",
       "      <td>0.0</td>\n",
       "      <td>0.0</td>\n",
       "      <td>0.0</td>\n",
       "      <td>0.0</td>\n",
       "      <td>0.0</td>\n",
       "      <td>0.0</td>\n",
       "      <td>...</td>\n",
       "      <td>0.0</td>\n",
       "      <td>1.0</td>\n",
       "      <td>0.0</td>\n",
       "      <td>0.0</td>\n",
       "      <td>0.0</td>\n",
       "      <td>0.0</td>\n",
       "      <td>1.0</td>\n",
       "      <td>0.0</td>\n",
       "      <td>0.0</td>\n",
       "      <td>0.0</td>\n",
       "    </tr>\n",
       "  </tbody>\n",
       "</table>\n",
       "<p>5 rows × 26 columns</p>\n",
       "</div>"
      ],
      "text/plain": [
       "   Loan_Status_Fully_Paid  Loan_Status_Not_Paid  Term_Long_Term  \\\n",
       "0                     1.0                   0.0             0.0   \n",
       "1                     1.0                   0.0             0.0   \n",
       "2                     1.0                   0.0             0.0   \n",
       "3                     1.0                   0.0             0.0   \n",
       "4                     1.0                   0.0             0.0   \n",
       "\n",
       "   Term_Short_Term  Years_in_current_job_10+_years  \\\n",
       "0              1.0                             0.0   \n",
       "1              1.0                             0.0   \n",
       "2              1.0                             0.0   \n",
       "3              1.0                             0.0   \n",
       "4              1.0                             0.0   \n",
       "\n",
       "   Years_in_current_job_1_year  Years_in_current_job_2_years  \\\n",
       "0                          0.0                           0.0   \n",
       "1                          0.0                           0.0   \n",
       "2                          0.0                           1.0   \n",
       "3                          0.0                           0.0   \n",
       "4                          0.0                           0.0   \n",
       "\n",
       "   Years_in_current_job_3_years  Years_in_current_job_4_years  \\\n",
       "0                           0.0                           0.0   \n",
       "1                           0.0                           0.0   \n",
       "2                           0.0                           0.0   \n",
       "3                           1.0                           0.0   \n",
       "4                           0.0                           0.0   \n",
       "\n",
       "   Years_in_current_job_5_years  ...  Home_Ownership_Home_Mortgage  \\\n",
       "0                           0.0  ...                           0.0   \n",
       "1                           0.0  ...                           1.0   \n",
       "2                           0.0  ...                           0.0   \n",
       "3                           0.0  ...                           0.0   \n",
       "4                           0.0  ...                           0.0   \n",
       "\n",
       "   Home_Ownership_Own_Home  Home_Ownership_Rent  Purpose_Business_Loan  \\\n",
       "0                      1.0                  0.0                    0.0   \n",
       "1                      0.0                  0.0                    0.0   \n",
       "2                      0.0                  1.0                    0.0   \n",
       "3                      0.0                  1.0                    0.0   \n",
       "4                      1.0                  0.0                    0.0   \n",
       "\n",
       "   Purpose_Buy_House  Purpose_Buy_a_Car  Purpose_Debt_Consolidation  \\\n",
       "0                0.0                0.0                         1.0   \n",
       "1                0.0                0.0                         1.0   \n",
       "2                0.0                0.0                         1.0   \n",
       "3                0.0                0.0                         1.0   \n",
       "4                0.0                0.0                         1.0   \n",
       "\n",
       "   Purpose_Home_Improvements  Purpose_Medical_Bills  Purpose_Other  \n",
       "0                        0.0                    0.0            0.0  \n",
       "1                        0.0                    0.0            0.0  \n",
       "2                        0.0                    0.0            0.0  \n",
       "3                        0.0                    0.0            0.0  \n",
       "4                        0.0                    0.0            0.0  \n",
       "\n",
       "[5 rows x 26 columns]"
      ]
     },
     "execution_count": 9,
     "metadata": {},
     "output_type": "execute_result"
    }
   ],
   "source": [
    "encode_df.columns = enc.get_feature_names(loans_cat)\n",
    "encode_df.head()"
   ]
  },
  {
   "cell_type": "markdown",
   "id": "021235e1",
   "metadata": {},
   "source": [
    "## Merge one-hot encoded features and drop the originals"
   ]
  },
  {
   "cell_type": "code",
   "execution_count": 10,
   "id": "59cee731",
   "metadata": {},
   "outputs": [
    {
     "name": "stderr",
     "output_type": "stream",
     "text": [
      "C:\\ProgramData\\Anaconda3\\envs\\Mlenv\\lib\\site-packages\\ipykernel_launcher.py:2: FutureWarning: In a future version of pandas all arguments of DataFrame.drop except for the argument 'labels' will be keyword-only\n",
      "  \n"
     ]
    },
    {
     "data": {
      "text/html": [
       "<div>\n",
       "<style scoped>\n",
       "    .dataframe tbody tr th:only-of-type {\n",
       "        vertical-align: middle;\n",
       "    }\n",
       "\n",
       "    .dataframe tbody tr th {\n",
       "        vertical-align: top;\n",
       "    }\n",
       "\n",
       "    .dataframe thead th {\n",
       "        text-align: right;\n",
       "    }\n",
       "</style>\n",
       "<table border=\"1\" class=\"dataframe\">\n",
       "  <thead>\n",
       "    <tr style=\"text-align: right;\">\n",
       "      <th></th>\n",
       "      <th>Current_Loan_Amount</th>\n",
       "      <th>Credit_Score</th>\n",
       "      <th>Annual_Income</th>\n",
       "      <th>Monthly_Debt</th>\n",
       "      <th>Years_of_Credit_History</th>\n",
       "      <th>Months_since_last_delinquent</th>\n",
       "      <th>Number_of_Open_Accounts</th>\n",
       "      <th>Number_of_Credit_Problems</th>\n",
       "      <th>Current_Credit_Balance</th>\n",
       "      <th>Maximum_Open_Credit</th>\n",
       "      <th>...</th>\n",
       "      <th>Home_Ownership_Home_Mortgage</th>\n",
       "      <th>Home_Ownership_Own_Home</th>\n",
       "      <th>Home_Ownership_Rent</th>\n",
       "      <th>Purpose_Business_Loan</th>\n",
       "      <th>Purpose_Buy_House</th>\n",
       "      <th>Purpose_Buy_a_Car</th>\n",
       "      <th>Purpose_Debt_Consolidation</th>\n",
       "      <th>Purpose_Home_Improvements</th>\n",
       "      <th>Purpose_Medical_Bills</th>\n",
       "      <th>Purpose_Other</th>\n",
       "    </tr>\n",
       "  </thead>\n",
       "  <tbody>\n",
       "    <tr>\n",
       "      <th>0</th>\n",
       "      <td>99999999</td>\n",
       "      <td>741.0</td>\n",
       "      <td>2231892.0</td>\n",
       "      <td>29200.53</td>\n",
       "      <td>14.9</td>\n",
       "      <td>29.0</td>\n",
       "      <td>18</td>\n",
       "      <td>1</td>\n",
       "      <td>297996</td>\n",
       "      <td>750090.0</td>\n",
       "      <td>...</td>\n",
       "      <td>0.0</td>\n",
       "      <td>1.0</td>\n",
       "      <td>0.0</td>\n",
       "      <td>0.0</td>\n",
       "      <td>0.0</td>\n",
       "      <td>0.0</td>\n",
       "      <td>1.0</td>\n",
       "      <td>0.0</td>\n",
       "      <td>0.0</td>\n",
       "      <td>0.0</td>\n",
       "    </tr>\n",
       "    <tr>\n",
       "      <th>1</th>\n",
       "      <td>217646</td>\n",
       "      <td>730.0</td>\n",
       "      <td>1184194.0</td>\n",
       "      <td>10855.08</td>\n",
       "      <td>19.6</td>\n",
       "      <td>10.0</td>\n",
       "      <td>13</td>\n",
       "      <td>1</td>\n",
       "      <td>122170</td>\n",
       "      <td>272052.0</td>\n",
       "      <td>...</td>\n",
       "      <td>1.0</td>\n",
       "      <td>0.0</td>\n",
       "      <td>0.0</td>\n",
       "      <td>0.0</td>\n",
       "      <td>0.0</td>\n",
       "      <td>0.0</td>\n",
       "      <td>1.0</td>\n",
       "      <td>0.0</td>\n",
       "      <td>0.0</td>\n",
       "      <td>0.0</td>\n",
       "    </tr>\n",
       "    <tr>\n",
       "      <th>2</th>\n",
       "      <td>548746</td>\n",
       "      <td>678.0</td>\n",
       "      <td>2559110.0</td>\n",
       "      <td>18660.28</td>\n",
       "      <td>22.6</td>\n",
       "      <td>33.0</td>\n",
       "      <td>4</td>\n",
       "      <td>0</td>\n",
       "      <td>437171</td>\n",
       "      <td>555038.0</td>\n",
       "      <td>...</td>\n",
       "      <td>0.0</td>\n",
       "      <td>0.0</td>\n",
       "      <td>1.0</td>\n",
       "      <td>0.0</td>\n",
       "      <td>0.0</td>\n",
       "      <td>0.0</td>\n",
       "      <td>1.0</td>\n",
       "      <td>0.0</td>\n",
       "      <td>0.0</td>\n",
       "      <td>0.0</td>\n",
       "    </tr>\n",
       "    <tr>\n",
       "      <th>3</th>\n",
       "      <td>99999999</td>\n",
       "      <td>728.0</td>\n",
       "      <td>714628.0</td>\n",
       "      <td>11851.06</td>\n",
       "      <td>16.0</td>\n",
       "      <td>76.0</td>\n",
       "      <td>16</td>\n",
       "      <td>0</td>\n",
       "      <td>203965</td>\n",
       "      <td>289784.0</td>\n",
       "      <td>...</td>\n",
       "      <td>0.0</td>\n",
       "      <td>0.0</td>\n",
       "      <td>1.0</td>\n",
       "      <td>0.0</td>\n",
       "      <td>0.0</td>\n",
       "      <td>0.0</td>\n",
       "      <td>1.0</td>\n",
       "      <td>0.0</td>\n",
       "      <td>0.0</td>\n",
       "      <td>0.0</td>\n",
       "    </tr>\n",
       "    <tr>\n",
       "      <th>4</th>\n",
       "      <td>99999999</td>\n",
       "      <td>740.0</td>\n",
       "      <td>776188.0</td>\n",
       "      <td>11578.22</td>\n",
       "      <td>8.5</td>\n",
       "      <td>25.0</td>\n",
       "      <td>6</td>\n",
       "      <td>0</td>\n",
       "      <td>134083</td>\n",
       "      <td>220220.0</td>\n",
       "      <td>...</td>\n",
       "      <td>0.0</td>\n",
       "      <td>1.0</td>\n",
       "      <td>0.0</td>\n",
       "      <td>0.0</td>\n",
       "      <td>0.0</td>\n",
       "      <td>0.0</td>\n",
       "      <td>1.0</td>\n",
       "      <td>0.0</td>\n",
       "      <td>0.0</td>\n",
       "      <td>0.0</td>\n",
       "    </tr>\n",
       "  </tbody>\n",
       "</table>\n",
       "<p>5 rows × 38 columns</p>\n",
       "</div>"
      ],
      "text/plain": [
       "   Current_Loan_Amount  Credit_Score  Annual_Income  Monthly_Debt  \\\n",
       "0             99999999         741.0      2231892.0      29200.53   \n",
       "1               217646         730.0      1184194.0      10855.08   \n",
       "2               548746         678.0      2559110.0      18660.28   \n",
       "3             99999999         728.0       714628.0      11851.06   \n",
       "4             99999999         740.0       776188.0      11578.22   \n",
       "\n",
       "   Years_of_Credit_History  Months_since_last_delinquent  \\\n",
       "0                     14.9                          29.0   \n",
       "1                     19.6                          10.0   \n",
       "2                     22.6                          33.0   \n",
       "3                     16.0                          76.0   \n",
       "4                      8.5                          25.0   \n",
       "\n",
       "   Number_of_Open_Accounts  Number_of_Credit_Problems  Current_Credit_Balance  \\\n",
       "0                       18                          1                  297996   \n",
       "1                       13                          1                  122170   \n",
       "2                        4                          0                  437171   \n",
       "3                       16                          0                  203965   \n",
       "4                        6                          0                  134083   \n",
       "\n",
       "   Maximum_Open_Credit  ...  Home_Ownership_Home_Mortgage  \\\n",
       "0             750090.0  ...                           0.0   \n",
       "1             272052.0  ...                           1.0   \n",
       "2             555038.0  ...                           0.0   \n",
       "3             289784.0  ...                           0.0   \n",
       "4             220220.0  ...                           0.0   \n",
       "\n",
       "   Home_Ownership_Own_Home  Home_Ownership_Rent  Purpose_Business_Loan  \\\n",
       "0                      1.0                  0.0                    0.0   \n",
       "1                      0.0                  0.0                    0.0   \n",
       "2                      0.0                  1.0                    0.0   \n",
       "3                      0.0                  1.0                    0.0   \n",
       "4                      1.0                  0.0                    0.0   \n",
       "\n",
       "   Purpose_Buy_House  Purpose_Buy_a_Car  Purpose_Debt_Consolidation  \\\n",
       "0                0.0                0.0                         1.0   \n",
       "1                0.0                0.0                         1.0   \n",
       "2                0.0                0.0                         1.0   \n",
       "3                0.0                0.0                         1.0   \n",
       "4                0.0                0.0                         1.0   \n",
       "\n",
       "   Purpose_Home_Improvements  Purpose_Medical_Bills  Purpose_Other  \n",
       "0                        0.0                    0.0            0.0  \n",
       "1                        0.0                    0.0            0.0  \n",
       "2                        0.0                    0.0            0.0  \n",
       "3                        0.0                    0.0            0.0  \n",
       "4                        0.0                    0.0            0.0  \n",
       "\n",
       "[5 rows x 38 columns]"
      ]
     },
     "execution_count": 10,
     "metadata": {},
     "output_type": "execute_result"
    }
   ],
   "source": [
    "loans_df = loans_df.merge(encode_df,left_index=True, right_index=True)\n",
    "loans_df = loans_df.drop(loans_cat,1)\n",
    "loans_df.head()"
   ]
  },
  {
   "cell_type": "markdown",
   "id": "868abafa",
   "metadata": {},
   "source": [
    "## Remove loan status target from features data"
   ]
  },
  {
   "cell_type": "code",
   "execution_count": 11,
   "id": "8f31886c",
   "metadata": {},
   "outputs": [],
   "source": [
    "y = loans_df.Loan_Status_Fully_Paid\n",
    "X = loans_df.drop(columns=[\"Loan_Status_Fully_Paid\",\"Loan_Status_Not_Paid\"])"
   ]
  },
  {
   "cell_type": "markdown",
   "id": "7a94a05d",
   "metadata": {},
   "source": [
    "# Split training/test datasets"
   ]
  },
  {
   "cell_type": "code",
   "execution_count": 12,
   "id": "6b51d98d",
   "metadata": {},
   "outputs": [],
   "source": [
    "X_train, X_test, y_train, y_test = train_test_split(X, y, random_state=42, stratify=y)"
   ]
  },
  {
   "cell_type": "markdown",
   "id": "c13f8277",
   "metadata": {},
   "source": [
    "## Create a StandardScaler instance"
   ]
  },
  {
   "cell_type": "code",
   "execution_count": 13,
   "id": "83dc8af2",
   "metadata": {},
   "outputs": [],
   "source": [
    "scaler = StandardScaler()"
   ]
  },
  {
   "cell_type": "markdown",
   "id": "9a5e9e6c",
   "metadata": {},
   "source": [
    "## Fit the StandardScaler"
   ]
  },
  {
   "cell_type": "code",
   "execution_count": 14,
   "id": "fe0a8410",
   "metadata": {},
   "outputs": [],
   "source": [
    "X_scaler = scaler.fit(X_train)"
   ]
  },
  {
   "cell_type": "markdown",
   "id": "18d0ad9b",
   "metadata": {},
   "source": [
    "## Scale the data"
   ]
  },
  {
   "cell_type": "code",
   "execution_count": 15,
   "id": "a448d357",
   "metadata": {},
   "outputs": [],
   "source": [
    "X_train_scaled = X_scaler.transform(X_train)\n",
    "X_test_scaled = X_scaler.transform(X_test)"
   ]
  },
  {
   "cell_type": "markdown",
   "id": "f564eb38",
   "metadata": {},
   "source": [
    "## Create a random forest classifier."
   ]
  },
  {
   "cell_type": "code",
   "execution_count": 16,
   "id": "e03cb91c",
   "metadata": {},
   "outputs": [],
   "source": [
    "rf_model = RandomForestClassifier(n_estimators=128, random_state=78)"
   ]
  },
  {
   "cell_type": "markdown",
   "id": "e8c23700",
   "metadata": {},
   "source": [
    "## Fitting the model"
   ]
  },
  {
   "cell_type": "code",
   "execution_count": 17,
   "id": "429e2eaf",
   "metadata": {},
   "outputs": [],
   "source": [
    "rf_model = rf_model.fit(X_train_scaled, y_train)"
   ]
  },
  {
   "cell_type": "markdown",
   "id": "0d7e0dd3",
   "metadata": {},
   "source": [
    "## Evaluate the model"
   ]
  },
  {
   "cell_type": "code",
   "execution_count": 18,
   "id": "cbb8cdf5",
   "metadata": {},
   "outputs": [
    {
     "name": "stdout",
     "output_type": "stream",
     "text": [
      " Random forest predictive accuracy: 0.849\n"
     ]
    }
   ],
   "source": [
    "y_pred = rf_model.predict(X_test_scaled)\n",
    "print(f\" Random forest predictive accuracy: {accuracy_score(y_test,y_pred):.3f}\")"
   ]
  },
  {
   "cell_type": "code",
   "execution_count": 19,
   "id": "2b2fb234",
   "metadata": {},
   "outputs": [],
   "source": [
    "# Define the model - deep neural net"
   ]
  },
  {
   "cell_type": "code",
   "execution_count": 20,
   "id": "fe050e42",
   "metadata": {},
   "outputs": [],
   "source": [
    "number_input_features = len(X_train_scaled[0])\n",
    "hidden_nodes_layer1 =  24\n",
    "hidden_nodes_layer2 = 12\n",
    "\n",
    "nn = tf.keras.models.Sequential()\n"
   ]
  },
  {
   "cell_type": "markdown",
   "id": "8a9398bf",
   "metadata": {},
   "source": [
    "## First hidden layer"
   ]
  },
  {
   "cell_type": "code",
   "execution_count": 21,
   "id": "0c367176",
   "metadata": {},
   "outputs": [],
   "source": [
    "nn.add(\n",
    "    tf.keras.layers.Dense(units=hidden_nodes_layer1, input_dim=number_input_features, activation=\"relu\")\n",
    ")"
   ]
  },
  {
   "cell_type": "markdown",
   "id": "d8d07647",
   "metadata": {},
   "source": [
    "# Second hidden layer"
   ]
  },
  {
   "cell_type": "code",
   "execution_count": 22,
   "id": "2195bdbe",
   "metadata": {},
   "outputs": [],
   "source": [
    "nn.add(tf.keras.layers.Dense(units=hidden_nodes_layer2, activation=\"relu\"))"
   ]
  },
  {
   "cell_type": "markdown",
   "id": "c5a5a91d",
   "metadata": {},
   "source": [
    "## Output layer"
   ]
  },
  {
   "cell_type": "code",
   "execution_count": 23,
   "id": "dafd4195",
   "metadata": {},
   "outputs": [],
   "source": [
    "nn.add(tf.keras.layers.Dense(units=1, activation=\"sigmoid\"))"
   ]
  },
  {
   "cell_type": "markdown",
   "id": "47d78632",
   "metadata": {},
   "source": [
    "## Compile the Sequential model together and customize metrics"
   ]
  },
  {
   "cell_type": "code",
   "execution_count": 24,
   "id": "edf1755c",
   "metadata": {},
   "outputs": [],
   "source": [
    "nn.compile(loss=\"binary_crossentropy\", optimizer=\"adam\", metrics=[\"accuracy\"])"
   ]
  },
  {
   "cell_type": "markdown",
   "id": "adbe1501",
   "metadata": {},
   "source": [
    "## Train the model"
   ]
  },
  {
   "cell_type": "code",
   "execution_count": 25,
   "id": "126b1d98",
   "metadata": {},
   "outputs": [
    {
     "name": "stdout",
     "output_type": "stream",
     "text": [
      "Epoch 1/50\n",
      "854/854 [==============================] - 1s 1ms/step - loss: 0.4432 - accuracy: 0.8189\n",
      "Epoch 2/50\n",
      "854/854 [==============================] - 1s 2ms/step - loss: 0.3862 - accuracy: 0.8493\n",
      "Epoch 3/50\n",
      "854/854 [==============================] - 1s 2ms/step - loss: 0.3820 - accuracy: 0.8493\n",
      "Epoch 4/50\n",
      "854/854 [==============================] - 1s 2ms/step - loss: 0.3798 - accuracy: 0.8495\n",
      "Epoch 5/50\n",
      "854/854 [==============================] - 1s 1ms/step - loss: 0.3780 - accuracy: 0.8496\n",
      "Epoch 6/50\n",
      "854/854 [==============================] - 1s 1ms/step - loss: 0.3774 - accuracy: 0.8493\n",
      "Epoch 7/50\n",
      "854/854 [==============================] - 1s 1ms/step - loss: 0.3760 - accuracy: 0.8494\n",
      "Epoch 8/50\n",
      "854/854 [==============================] - 1s 1ms/step - loss: 0.3754 - accuracy: 0.8495\n",
      "Epoch 9/50\n",
      "854/854 [==============================] - 1s 1ms/step - loss: 0.3744 - accuracy: 0.8497\n",
      "Epoch 10/50\n",
      "854/854 [==============================] - 1s 1ms/step - loss: 0.3735 - accuracy: 0.8500\n",
      "Epoch 11/50\n",
      "854/854 [==============================] - 1s 1ms/step - loss: 0.3732 - accuracy: 0.8501\n",
      "Epoch 12/50\n",
      "854/854 [==============================] - 1s 1ms/step - loss: 0.3725 - accuracy: 0.8501\n",
      "Epoch 13/50\n",
      "854/854 [==============================] - 1s 2ms/step - loss: 0.3716 - accuracy: 0.8504\n",
      "Epoch 14/50\n",
      "854/854 [==============================] - 1s 1ms/step - loss: 0.3717 - accuracy: 0.8502\n",
      "Epoch 15/50\n",
      "854/854 [==============================] - 1s 1ms/step - loss: 0.3707 - accuracy: 0.8499\n",
      "Epoch 16/50\n",
      "854/854 [==============================] - 1s 1ms/step - loss: 0.3699 - accuracy: 0.8510\n",
      "Epoch 17/50\n",
      "854/854 [==============================] - 1s 1ms/step - loss: 0.3696 - accuracy: 0.8502\n",
      "Epoch 18/50\n",
      "854/854 [==============================] - 1s 1ms/step - loss: 0.3695 - accuracy: 0.8505\n",
      "Epoch 19/50\n",
      "854/854 [==============================] - 1s 1ms/step - loss: 0.3688 - accuracy: 0.8504\n",
      "Epoch 20/50\n",
      "854/854 [==============================] - 1s 1ms/step - loss: 0.3683 - accuracy: 0.8505\n",
      "Epoch 21/50\n",
      "854/854 [==============================] - 1s 1ms/step - loss: 0.3675 - accuracy: 0.8508\n",
      "Epoch 22/50\n",
      "854/854 [==============================] - 1s 1ms/step - loss: 0.3673 - accuracy: 0.8508\n",
      "Epoch 23/50\n",
      "854/854 [==============================] - 1s 1ms/step - loss: 0.3664 - accuracy: 0.8516\n",
      "Epoch 24/50\n",
      "854/854 [==============================] - 1s 1ms/step - loss: 0.3666 - accuracy: 0.8510\n",
      "Epoch 25/50\n",
      "854/854 [==============================] - 1s 1ms/step - loss: 0.3659 - accuracy: 0.8514\n",
      "Epoch 26/50\n",
      "854/854 [==============================] - 1s 2ms/step - loss: 0.3654 - accuracy: 0.8516\n",
      "Epoch 27/50\n",
      "854/854 [==============================] - 1s 1ms/step - loss: 0.3654 - accuracy: 0.8507\n",
      "Epoch 28/50\n",
      "854/854 [==============================] - 1s 1ms/step - loss: 0.3649 - accuracy: 0.8513\n",
      "Epoch 29/50\n",
      "854/854 [==============================] - 1s 1ms/step - loss: 0.3648 - accuracy: 0.8516\n",
      "Epoch 30/50\n",
      "854/854 [==============================] - 1s 1ms/step - loss: 0.3645 - accuracy: 0.8510\n",
      "Epoch 31/50\n",
      "854/854 [==============================] - 1s 1ms/step - loss: 0.3641 - accuracy: 0.8510\n",
      "Epoch 32/50\n",
      "854/854 [==============================] - 1s 1ms/step - loss: 0.3633 - accuracy: 0.8511\n",
      "Epoch 33/50\n",
      "854/854 [==============================] - 1s 1ms/step - loss: 0.3638 - accuracy: 0.8517\n",
      "Epoch 34/50\n",
      "854/854 [==============================] - 1s 1ms/step - loss: 0.3631 - accuracy: 0.8520\n",
      "Epoch 35/50\n",
      "854/854 [==============================] - 1s 1ms/step - loss: 0.3629 - accuracy: 0.8516\n",
      "Epoch 36/50\n",
      "854/854 [==============================] - 1s 1ms/step - loss: 0.3632 - accuracy: 0.8517\n",
      "Epoch 37/50\n",
      "854/854 [==============================] - 1s 1ms/step - loss: 0.3627 - accuracy: 0.8519\n",
      "Epoch 38/50\n",
      "854/854 [==============================] - 1s 1ms/step - loss: 0.3626 - accuracy: 0.8520\n",
      "Epoch 39/50\n",
      "854/854 [==============================] - 1s 1ms/step - loss: 0.3620 - accuracy: 0.8518\n",
      "Epoch 40/50\n",
      "854/854 [==============================] - 1s 1ms/step - loss: 0.3617 - accuracy: 0.8522\n",
      "Epoch 41/50\n",
      "854/854 [==============================] - 1s 1ms/step - loss: 0.3615 - accuracy: 0.8526\n",
      "Epoch 42/50\n",
      "854/854 [==============================] - 1s 1ms/step - loss: 0.3613 - accuracy: 0.8522\n",
      "Epoch 43/50\n",
      "854/854 [==============================] - 1s 1ms/step - loss: 0.3612 - accuracy: 0.8524\n",
      "Epoch 44/50\n",
      "854/854 [==============================] - 1s 2ms/step - loss: 0.3614 - accuracy: 0.8521\n",
      "Epoch 45/50\n",
      "854/854 [==============================] - 1s 1ms/step - loss: 0.3610 - accuracy: 0.8521\n",
      "Epoch 46/50\n",
      "854/854 [==============================] - 1s 1ms/step - loss: 0.3603 - accuracy: 0.8519\n",
      "Epoch 47/50\n",
      "854/854 [==============================] - 1s 1ms/step - loss: 0.3609 - accuracy: 0.8525\n",
      "Epoch 48/50\n",
      "854/854 [==============================] - 1s 1ms/step - loss: 0.3600 - accuracy: 0.8526\n",
      "Epoch 49/50\n",
      "854/854 [==============================] - 1s 1ms/step - loss: 0.3599 - accuracy: 0.8526\n",
      "Epoch 50/50\n",
      "854/854 [==============================] - 1s 1ms/step - loss: 0.3596 - accuracy: 0.8531\n"
     ]
    }
   ],
   "source": [
    "fit_model = nn.fit(X_train_scaled, y_train, epochs=50)"
   ]
  },
  {
   "cell_type": "markdown",
   "id": "1e074292",
   "metadata": {},
   "source": [
    "## Evaluate the model using the test data"
   ]
  },
  {
   "cell_type": "code",
   "execution_count": 26,
   "id": "985196ef",
   "metadata": {},
   "outputs": [
    {
     "name": "stdout",
     "output_type": "stream",
     "text": [
      "285/285 - 0s - loss: 0.3920 - accuracy: 0.8474 - 365ms/epoch - 1ms/step\n",
      "Loss: 0.3920218348503113, Accuracy: 0.8473533987998962\n"
     ]
    }
   ],
   "source": [
    "model_loss, model_accuracy = nn.evaluate(X_test_scaled,y_test,verbose=2)\n",
    "print(f\"Loss: {model_loss}, Accuracy: {model_accuracy}\")"
   ]
  },
  {
   "cell_type": "markdown",
   "id": "9cba54e3",
   "metadata": {},
   "source": [
    "# 19.6.1 Checkpoints Are Not Just for Video Games (maybe needed to open a new notebook?, last line of code isn't working)"
   ]
  },
  {
   "cell_type": "code",
   "execution_count": 27,
   "id": "168c907b",
   "metadata": {},
   "outputs": [
    {
     "name": "stdout",
     "output_type": "stream",
     "text": [
      "Model: \"sequential\"\n",
      "_________________________________________________________________\n",
      " Layer (type)                Output Shape              Param #   \n",
      "=================================================================\n",
      " dense (Dense)               (None, 24)                888       \n",
      "                                                                 \n",
      " dense_1 (Dense)             (None, 12)                300       \n",
      "                                                                 \n",
      " dense_2 (Dense)             (None, 1)                 13        \n",
      "                                                                 \n",
      "=================================================================\n",
      "Total params: 1,201\n",
      "Trainable params: 1,201\n",
      "Non-trainable params: 0\n",
      "_________________________________________________________________\n"
     ]
    }
   ],
   "source": [
    "nn.summary()"
   ]
  },
  {
   "cell_type": "markdown",
   "id": "980ae434",
   "metadata": {},
   "source": [
    "## Import checkpoint dependencies"
   ]
  },
  {
   "cell_type": "code",
   "execution_count": 28,
   "id": "eebf6bad",
   "metadata": {},
   "outputs": [],
   "source": [
    "import os\n",
    "from tensorflow.keras.callbacks import ModelCheckpoint"
   ]
  },
  {
   "cell_type": "markdown",
   "id": "991c1296",
   "metadata": {},
   "source": [
    "# Define the checkpoint path and filenames"
   ]
  },
  {
   "cell_type": "code",
   "execution_count": 29,
   "id": "3ded5488",
   "metadata": {},
   "outputs": [],
   "source": [
    "os.makedirs(\"checkpoints/\",exist_ok=True)\n",
    "checkpoint_path = \"checkpoints/weights.{epoch:02d}.hdf5\""
   ]
  },
  {
   "cell_type": "markdown",
   "id": "f3c3aa10",
   "metadata": {},
   "source": [
    "# Compile the model"
   ]
  },
  {
   "cell_type": "code",
   "execution_count": 30,
   "id": "44dc8098",
   "metadata": {},
   "outputs": [],
   "source": [
    "nn.compile(loss=\"binary_crossentropy\", optimizer=\"adam\", metrics=[\"accuracy\"])"
   ]
  },
  {
   "cell_type": "markdown",
   "id": "93f619e1",
   "metadata": {},
   "source": [
    "# Create a callback that saves the model's weights every 5 epochs"
   ]
  },
  {
   "cell_type": "code",
   "execution_count": 31,
   "id": "6c35d5c0",
   "metadata": {},
   "outputs": [],
   "source": [
    "cp_callback = ModelCheckpoint(\n",
    "    filepath=checkpoint_path,\n",
    "    verbose=1,\n",
    "    save_weights_only=True,\n",
    "    save_freq=1000)"
   ]
  },
  {
   "cell_type": "markdown",
   "id": "f5e20bda",
   "metadata": {},
   "source": [
    "# Train the model"
   ]
  },
  {
   "cell_type": "code",
   "execution_count": 32,
   "id": "a7d8366c",
   "metadata": {},
   "outputs": [
    {
     "name": "stdout",
     "output_type": "stream",
     "text": [
      "Epoch 1/100\n",
      "854/854 [==============================] - 2s 2ms/step - loss: 0.3603 - accuracy: 0.8527\n",
      "Epoch 2/100\n",
      "138/854 [===>..........................] - ETA: 1s - loss: 0.3641 - accuracy: 0.8469\n",
      "Epoch 2: saving model to checkpoints\\weights.02.hdf5\n",
      "854/854 [==============================] - 1s 2ms/step - loss: 0.3596 - accuracy: 0.8531\n",
      "Epoch 3/100\n",
      "273/854 [========>.....................] - ETA: 0s - loss: 0.3597 - accuracy: 0.8529\n",
      "Epoch 3: saving model to checkpoints\\weights.03.hdf5\n",
      "854/854 [==============================] - 1s 2ms/step - loss: 0.3593 - accuracy: 0.8532\n",
      "Epoch 4/100\n",
      "429/854 [==============>...............] - ETA: 0s - loss: 0.3557 - accuracy: 0.8544\n",
      "Epoch 4: saving model to checkpoints\\weights.04.hdf5\n",
      "854/854 [==============================] - 1s 1ms/step - loss: 0.3594 - accuracy: 0.8528\n",
      "Epoch 5/100\n",
      "578/854 [===================>..........] - ETA: 0s - loss: 0.3572 - accuracy: 0.8524\n",
      "Epoch 5: saving model to checkpoints\\weights.05.hdf5\n",
      "854/854 [==============================] - 1s 2ms/step - loss: 0.3591 - accuracy: 0.8527\n",
      "Epoch 6/100\n",
      "704/854 [=======================>......] - ETA: 0s - loss: 0.3559 - accuracy: 0.8549\n",
      "Epoch 6: saving model to checkpoints\\weights.06.hdf5\n",
      "854/854 [==============================] - 1s 2ms/step - loss: 0.3590 - accuracy: 0.8531\n",
      "Epoch 7/100\n",
      "854/854 [==============================] - 1s 1ms/step - loss: 0.3590 - accuracy: 0.8524\n",
      "Epoch 8/100\n",
      "  1/854 [..............................] - ETA: 1s - loss: 0.2138 - accuracy: 0.9688\n",
      "Epoch 8: saving model to checkpoints\\weights.08.hdf5\n",
      "854/854 [==============================] - 1s 1ms/step - loss: 0.3590 - accuracy: 0.8536\n",
      "Epoch 9/100\n",
      "140/854 [===>..........................] - ETA: 1s - loss: 0.3505 - accuracy: 0.8589\n",
      "Epoch 9: saving model to checkpoints\\weights.09.hdf5\n",
      "854/854 [==============================] - 1s 1ms/step - loss: 0.3587 - accuracy: 0.8526\n",
      "Epoch 10/100\n",
      "279/854 [========>.....................] - ETA: 0s - loss: 0.3552 - accuracy: 0.8551\n",
      "Epoch 10: saving model to checkpoints\\weights.10.hdf5\n",
      "854/854 [==============================] - 1s 1ms/step - loss: 0.3589 - accuracy: 0.8531\n",
      "Epoch 11/100\n",
      "431/854 [==============>...............] - ETA: 0s - loss: 0.3595 - accuracy: 0.8527\n",
      "Epoch 11: saving model to checkpoints\\weights.11.hdf5\n",
      "854/854 [==============================] - 1s 1ms/step - loss: 0.3587 - accuracy: 0.8539\n",
      "Epoch 12/100\n",
      "575/854 [===================>..........] - ETA: 0s - loss: 0.3577 - accuracy: 0.8537\n",
      "Epoch 12: saving model to checkpoints\\weights.12.hdf5\n",
      "854/854 [==============================] - 1s 1ms/step - loss: 0.3583 - accuracy: 0.8535\n",
      "Epoch 13/100\n",
      "724/854 [========================>.....] - ETA: 0s - loss: 0.3609 - accuracy: 0.8524\n",
      "Epoch 13: saving model to checkpoints\\weights.13.hdf5\n",
      "854/854 [==============================] - 1s 1ms/step - loss: 0.3586 - accuracy: 0.8536\n",
      "Epoch 14/100\n",
      "854/854 [==============================] - 2s 2ms/step - loss: 0.3582 - accuracy: 0.8531\n",
      "Epoch 15/100\n",
      " 33/854 [>.............................] - ETA: 1s - loss: 0.3473 - accuracy: 0.8598\n",
      "Epoch 15: saving model to checkpoints\\weights.15.hdf5\n",
      "854/854 [==============================] - 1s 2ms/step - loss: 0.3579 - accuracy: 0.8544\n",
      "Epoch 16/100\n",
      "169/854 [====>.........................] - ETA: 1s - loss: 0.3613 - accuracy: 0.8499\n",
      "Epoch 16: saving model to checkpoints\\weights.16.hdf5\n",
      "854/854 [==============================] - 2s 2ms/step - loss: 0.3581 - accuracy: 0.8532\n",
      "Epoch 17/100\n",
      "334/854 [==========>...................] - ETA: 1s - loss: 0.3527 - accuracy: 0.8552\n",
      "Epoch 17: saving model to checkpoints\\weights.17.hdf5\n",
      "854/854 [==============================] - 2s 2ms/step - loss: 0.3580 - accuracy: 0.8534\n",
      "Epoch 18/100\n",
      "478/854 [===============>..............] - ETA: 0s - loss: 0.3624 - accuracy: 0.8504\n",
      "Epoch 18: saving model to checkpoints\\weights.18.hdf5\n",
      "854/854 [==============================] - 2s 2ms/step - loss: 0.3577 - accuracy: 0.8536\n",
      "Epoch 19/100\n",
      "612/854 [====================>.........] - ETA: 0s - loss: 0.3599 - accuracy: 0.8534\n",
      "Epoch 19: saving model to checkpoints\\weights.19.hdf5\n",
      "854/854 [==============================] - 2s 2ms/step - loss: 0.3576 - accuracy: 0.8541\n",
      "Epoch 20/100\n",
      "759/854 [=========================>....] - ETA: 0s - loss: 0.3546 - accuracy: 0.8549\n",
      "Epoch 20: saving model to checkpoints\\weights.20.hdf5\n",
      "854/854 [==============================] - 2s 2ms/step - loss: 0.3578 - accuracy: 0.8536\n",
      "Epoch 21/100\n",
      "854/854 [==============================] - 2s 2ms/step - loss: 0.3575 - accuracy: 0.8540\n",
      "Epoch 22/100\n",
      " 55/854 [>.............................] - ETA: 1s - loss: 0.3463 - accuracy: 0.8670\n",
      "Epoch 22: saving model to checkpoints\\weights.22.hdf5\n",
      "854/854 [==============================] - 2s 2ms/step - loss: 0.3574 - accuracy: 0.8533\n",
      "Epoch 23/100\n",
      "187/854 [=====>........................] - ETA: 1s - loss: 0.3539 - accuracy: 0.8531\n",
      "Epoch 23: saving model to checkpoints\\weights.23.hdf5\n",
      "854/854 [==============================] - 2s 2ms/step - loss: 0.3579 - accuracy: 0.8536\n",
      "Epoch 24/100\n",
      "344/854 [===========>..................] - ETA: 1s - loss: 0.3552 - accuracy: 0.8527\n",
      "Epoch 24: saving model to checkpoints\\weights.24.hdf5\n",
      "854/854 [==============================] - 2s 2ms/step - loss: 0.3572 - accuracy: 0.8538\n",
      "Epoch 25/100\n",
      "483/854 [===============>..............] - ETA: 0s - loss: 0.3585 - accuracy: 0.8523\n",
      "Epoch 25: saving model to checkpoints\\weights.25.hdf5\n",
      "854/854 [==============================] - 2s 2ms/step - loss: 0.3575 - accuracy: 0.8538\n",
      "Epoch 26/100\n",
      "648/854 [=====================>........] - ETA: 0s - loss: 0.3536 - accuracy: 0.8546\n",
      "Epoch 26: saving model to checkpoints\\weights.26.hdf5\n",
      "854/854 [==============================] - 2s 2ms/step - loss: 0.3570 - accuracy: 0.8533\n",
      "Epoch 27/100\n",
      "779/854 [==========================>...] - ETA: 0s - loss: 0.3583 - accuracy: 0.8535\n",
      "Epoch 27: saving model to checkpoints\\weights.27.hdf5\n",
      "854/854 [==============================] - 2s 3ms/step - loss: 0.3568 - accuracy: 0.8541\n",
      "Epoch 28/100\n",
      "854/854 [==============================] - 2s 3ms/step - loss: 0.3567 - accuracy: 0.8546\n",
      "Epoch 29/100\n",
      " 80/854 [=>............................] - ETA: 2s - loss: 0.3742 - accuracy: 0.8441\n",
      "Epoch 29: saving model to checkpoints\\weights.29.hdf5\n",
      "854/854 [==============================] - 2s 3ms/step - loss: 0.3571 - accuracy: 0.8538\n",
      "Epoch 30/100\n",
      "212/854 [======>.......................] - ETA: 1s - loss: 0.3547 - accuracy: 0.8508\n",
      "Epoch 30: saving model to checkpoints\\weights.30.hdf5\n",
      "854/854 [==============================] - 2s 2ms/step - loss: 0.3571 - accuracy: 0.8542\n",
      "Epoch 31/100\n",
      "366/854 [===========>..................] - ETA: 1s - loss: 0.3590 - accuracy: 0.8504\n",
      "Epoch 31: saving model to checkpoints\\weights.31.hdf5\n",
      "854/854 [==============================] - 2s 2ms/step - loss: 0.3570 - accuracy: 0.8544\n",
      "Epoch 32/100\n",
      "504/854 [================>.............] - ETA: 0s - loss: 0.3574 - accuracy: 0.8542\n",
      "Epoch 32: saving model to checkpoints\\weights.32.hdf5\n",
      "854/854 [==============================] - 2s 2ms/step - loss: 0.3566 - accuracy: 0.8542\n",
      "Epoch 33/100\n",
      "668/854 [======================>.......] - ETA: 0s - loss: 0.3530 - accuracy: 0.8555\n",
      "Epoch 33: saving model to checkpoints\\weights.33.hdf5\n",
      "854/854 [==============================] - 2s 2ms/step - loss: 0.3562 - accuracy: 0.8544\n",
      "Epoch 34/100\n",
      "801/854 [===========================>..] - ETA: 0s - loss: 0.3560 - accuracy: 0.8540\n",
      "Epoch 34: saving model to checkpoints\\weights.34.hdf5\n",
      "854/854 [==============================] - 2s 3ms/step - loss: 0.3570 - accuracy: 0.8537\n",
      "Epoch 35/100\n",
      "854/854 [==============================] - 3s 3ms/step - loss: 0.3564 - accuracy: 0.8542\n",
      "Epoch 36/100\n",
      " 97/854 [==>...........................] - ETA: 2s - loss: 0.3593 - accuracy: 0.8557\n",
      "Epoch 36: saving model to checkpoints\\weights.36.hdf5\n",
      "854/854 [==============================] - 2s 3ms/step - loss: 0.3563 - accuracy: 0.8543\n",
      "Epoch 37/100\n",
      "251/854 [=======>......................] - ETA: 1s - loss: 0.3533 - accuracy: 0.8520\n",
      "Epoch 37: saving model to checkpoints\\weights.37.hdf5\n",
      "854/854 [==============================] - 2s 3ms/step - loss: 0.3560 - accuracy: 0.8547\n",
      "Epoch 38/100\n",
      "388/854 [============>.................] - ETA: 1s - loss: 0.3563 - accuracy: 0.8530\n",
      "Epoch 38: saving model to checkpoints\\weights.38.hdf5\n",
      "854/854 [==============================] - 2s 2ms/step - loss: 0.3561 - accuracy: 0.8546\n",
      "Epoch 39/100\n",
      "537/854 [=================>............] - ETA: 0s - loss: 0.3529 - accuracy: 0.8563\n",
      "Epoch 39: saving model to checkpoints\\weights.39.hdf5\n",
      "854/854 [==============================] - 2s 2ms/step - loss: 0.3559 - accuracy: 0.8549\n",
      "Epoch 40/100\n",
      "687/854 [=======================>......] - ETA: 0s - loss: 0.3560 - accuracy: 0.8536\n",
      "Epoch 40: saving model to checkpoints\\weights.40.hdf5\n",
      "854/854 [==============================] - 2s 3ms/step - loss: 0.3560 - accuracy: 0.8541\n",
      "Epoch 41/100\n",
      "838/854 [============================>.] - ETA: 0s - loss: 0.3554 - accuracy: 0.8548\n",
      "Epoch 41: saving model to checkpoints\\weights.41.hdf5\n",
      "854/854 [==============================] - 3s 3ms/step - loss: 0.3560 - accuracy: 0.8545\n",
      "Epoch 42/100\n",
      "854/854 [==============================] - 2s 3ms/step - loss: 0.3561 - accuracy: 0.8540\n",
      "Epoch 43/100\n",
      "130/854 [===>..........................] - ETA: 2s - loss: 0.3492 - accuracy: 0.8599\n",
      "Epoch 43: saving model to checkpoints\\weights.43.hdf5\n",
      "854/854 [==============================] - 2s 3ms/step - loss: 0.3557 - accuracy: 0.8543\n",
      "Epoch 44/100\n",
      "257/854 [========>.....................] - ETA: 1s - loss: 0.3515 - accuracy: 0.8572\n",
      "Epoch 44: saving model to checkpoints\\weights.44.hdf5\n",
      "854/854 [==============================] - 2s 3ms/step - loss: 0.3558 - accuracy: 0.8542\n",
      "Epoch 45/100\n",
      "410/854 [=============>................] - ETA: 1s - loss: 0.3514 - accuracy: 0.8559\n",
      "Epoch 45: saving model to checkpoints\\weights.45.hdf5\n",
      "854/854 [==============================] - 2s 2ms/step - loss: 0.3555 - accuracy: 0.8543\n",
      "Epoch 46/100\n",
      "565/854 [==================>...........] - ETA: 0s - loss: 0.3560 - accuracy: 0.8533\n",
      "Epoch 46: saving model to checkpoints\\weights.46.hdf5\n",
      "854/854 [==============================] - 2s 3ms/step - loss: 0.3552 - accuracy: 0.8547\n",
      "Epoch 47/100\n",
      "699/854 [=======================>......] - ETA: 0s - loss: 0.3512 - accuracy: 0.8567\n",
      "Epoch 47: saving model to checkpoints\\weights.47.hdf5\n",
      "854/854 [==============================] - 2s 3ms/step - loss: 0.3557 - accuracy: 0.8546\n",
      "Epoch 48/100\n",
      "854/854 [==============================] - 2s 3ms/step - loss: 0.3553 - accuracy: 0.8540\n",
      "Epoch 49/100\n",
      "  1/854 [..............................] - ETA: 2s - loss: 0.2114 - accuracy: 0.9375\n",
      "Epoch 49: saving model to checkpoints\\weights.49.hdf5\n",
      "854/854 [==============================] - 2s 3ms/step - loss: 0.3555 - accuracy: 0.8538\n",
      "Epoch 50/100\n",
      "144/854 [====>.........................] - ETA: 1s - loss: 0.3409 - accuracy: 0.8618\n",
      "Epoch 50: saving model to checkpoints\\weights.50.hdf5\n",
      "854/854 [==============================] - 2s 3ms/step - loss: 0.3550 - accuracy: 0.8546\n",
      "Epoch 51/100\n",
      "278/854 [========>.....................] - ETA: 1s - loss: 0.3625 - accuracy: 0.8479\n",
      "Epoch 51: saving model to checkpoints\\weights.51.hdf5\n",
      "854/854 [==============================] - 2s 2ms/step - loss: 0.3554 - accuracy: 0.8543\n",
      "Epoch 52/100\n",
      "427/854 [==============>...............] - ETA: 0s - loss: 0.3510 - accuracy: 0.8556\n",
      "Epoch 52: saving model to checkpoints\\weights.52.hdf5\n",
      "854/854 [==============================] - 2s 2ms/step - loss: 0.3551 - accuracy: 0.8538\n",
      "Epoch 53/100\n",
      "580/854 [===================>..........] - ETA: 0s - loss: 0.3541 - accuracy: 0.8546\n",
      "Epoch 53: saving model to checkpoints\\weights.53.hdf5\n",
      "854/854 [==============================] - 2s 2ms/step - loss: 0.3551 - accuracy: 0.8549\n",
      "Epoch 54/100\n",
      "732/854 [========================>.....] - ETA: 0s - loss: 0.3533 - accuracy: 0.8546\n",
      "Epoch 54: saving model to checkpoints\\weights.54.hdf5\n",
      "854/854 [==============================] - 2s 3ms/step - loss: 0.3546 - accuracy: 0.8537\n",
      "Epoch 55/100\n",
      "854/854 [==============================] - 3s 3ms/step - loss: 0.3549 - accuracy: 0.8541\n",
      "Epoch 56/100\n",
      " 18/854 [..............................] - ETA: 2s - loss: 0.3210 - accuracy: 0.8767\n",
      "Epoch 56: saving model to checkpoints\\weights.56.hdf5\n",
      "854/854 [==============================] - 2s 3ms/step - loss: 0.3549 - accuracy: 0.8551\n",
      "Epoch 57/100\n",
      "173/854 [=====>........................] - ETA: 2s - loss: 0.3564 - accuracy: 0.8510\n",
      "Epoch 57: saving model to checkpoints\\weights.57.hdf5\n",
      "854/854 [==============================] - 2s 3ms/step - loss: 0.3549 - accuracy: 0.8553\n",
      "Epoch 58/100\n",
      "305/854 [=========>....................] - ETA: 1s - loss: 0.3540 - accuracy: 0.8557\n",
      "Epoch 58: saving model to checkpoints\\weights.58.hdf5\n",
      "854/854 [==============================] - 2s 3ms/step - loss: 0.3545 - accuracy: 0.8553\n",
      "Epoch 59/100\n",
      "457/854 [===============>..............] - ETA: 0s - loss: 0.3568 - accuracy: 0.8522\n",
      "Epoch 59: saving model to checkpoints\\weights.59.hdf5\n",
      "854/854 [==============================] - 2s 2ms/step - loss: 0.3545 - accuracy: 0.8547\n",
      "Epoch 60/100\n",
      "594/854 [===================>..........] - ETA: 0s - loss: 0.3490 - accuracy: 0.8581\n",
      "Epoch 60: saving model to checkpoints\\weights.60.hdf5\n",
      "854/854 [==============================] - 2s 2ms/step - loss: 0.3546 - accuracy: 0.8552\n",
      "Epoch 61/100\n",
      "755/854 [=========================>....] - ETA: 0s - loss: 0.3550 - accuracy: 0.8553\n",
      "Epoch 61: saving model to checkpoints\\weights.61.hdf5\n",
      "854/854 [==============================] - 2s 2ms/step - loss: 0.3545 - accuracy: 0.8554\n",
      "Epoch 62/100\n",
      "854/854 [==============================] - 3s 3ms/step - loss: 0.3542 - accuracy: 0.8550\n",
      "Epoch 63/100\n",
      " 42/854 [>.............................] - ETA: 2s - loss: 0.3383 - accuracy: 0.8676\n",
      "Epoch 63: saving model to checkpoints\\weights.63.hdf5\n",
      "854/854 [==============================] - 2s 3ms/step - loss: 0.3540 - accuracy: 0.8538\n",
      "Epoch 64/100\n",
      "185/854 [=====>........................] - ETA: 1s - loss: 0.3619 - accuracy: 0.8495\n",
      "Epoch 64: saving model to checkpoints\\weights.64.hdf5\n",
      "854/854 [==============================] - 2s 3ms/step - loss: 0.3547 - accuracy: 0.8546\n",
      "Epoch 65/100\n",
      "337/854 [==========>...................] - ETA: 1s - loss: 0.3523 - accuracy: 0.8548\n",
      "Epoch 65: saving model to checkpoints\\weights.65.hdf5\n",
      "854/854 [==============================] - 2s 3ms/step - loss: 0.3545 - accuracy: 0.8547\n",
      "Epoch 66/100\n",
      "473/854 [===============>..............] - ETA: 0s - loss: 0.3499 - accuracy: 0.8560\n",
      "Epoch 66: saving model to checkpoints\\weights.66.hdf5\n",
      "854/854 [==============================] - 2s 2ms/step - loss: 0.3539 - accuracy: 0.8547\n",
      "Epoch 67/100\n",
      "620/854 [====================>.........] - ETA: 0s - loss: 0.3522 - accuracy: 0.8547\n",
      "Epoch 67: saving model to checkpoints\\weights.67.hdf5\n",
      "854/854 [==============================] - 2s 2ms/step - loss: 0.3536 - accuracy: 0.8546\n",
      "Epoch 68/100\n",
      "760/854 [=========================>....] - ETA: 0s - loss: 0.3550 - accuracy: 0.8545\n",
      "Epoch 68: saving model to checkpoints\\weights.68.hdf5\n",
      "854/854 [==============================] - 2s 2ms/step - loss: 0.3538 - accuracy: 0.8551\n",
      "Epoch 69/100\n",
      "854/854 [==============================] - 2s 3ms/step - loss: 0.3539 - accuracy: 0.8546\n",
      "Epoch 70/100\n",
      " 71/854 [=>............................] - ETA: 1s - loss: 0.3535 - accuracy: 0.8548\n",
      "Epoch 70: saving model to checkpoints\\weights.70.hdf5\n",
      "854/854 [==============================] - 2s 3ms/step - loss: 0.3537 - accuracy: 0.8549\n",
      "Epoch 71/100\n",
      "211/854 [======>.......................] - ETA: 1s - loss: 0.3525 - accuracy: 0.8546\n",
      "Epoch 71: saving model to checkpoints\\weights.71.hdf5\n",
      "854/854 [==============================] - 2s 2ms/step - loss: 0.3536 - accuracy: 0.8550\n",
      "Epoch 72/100\n",
      "352/854 [===========>..................] - ETA: 1s - loss: 0.3502 - accuracy: 0.8556\n",
      "Epoch 72: saving model to checkpoints\\weights.72.hdf5\n",
      "854/854 [==============================] - 2s 3ms/step - loss: 0.3533 - accuracy: 0.8547\n",
      "Epoch 73/100\n",
      "502/854 [================>.............] - ETA: 0s - loss: 0.3540 - accuracy: 0.8542\n",
      "Epoch 73: saving model to checkpoints\\weights.73.hdf5\n",
      "854/854 [==============================] - 2s 2ms/step - loss: 0.3536 - accuracy: 0.8545\n",
      "Epoch 74/100\n",
      "653/854 [=====================>........] - ETA: 0s - loss: 0.3536 - accuracy: 0.8539\n",
      "Epoch 74: saving model to checkpoints\\weights.74.hdf5\n",
      "854/854 [==============================] - 2s 3ms/step - loss: 0.3533 - accuracy: 0.8550\n",
      "Epoch 75/100\n",
      "793/854 [==========================>...] - ETA: 0s - loss: 0.3523 - accuracy: 0.8550\n",
      "Epoch 75: saving model to checkpoints\\weights.75.hdf5\n",
      "854/854 [==============================] - 2s 3ms/step - loss: 0.3531 - accuracy: 0.8549\n",
      "Epoch 76/100\n",
      "854/854 [==============================] - 2s 3ms/step - loss: 0.3535 - accuracy: 0.8549\n",
      "Epoch 77/100\n",
      " 82/854 [=>............................] - ETA: 1s - loss: 0.3587 - accuracy: 0.8498\n",
      "Epoch 77: saving model to checkpoints\\weights.77.hdf5\n",
      "854/854 [==============================] - 2s 3ms/step - loss: 0.3531 - accuracy: 0.8558\n",
      "Epoch 78/100\n",
      "229/854 [=======>......................] - ETA: 1s - loss: 0.3504 - accuracy: 0.8567\n",
      "Epoch 78: saving model to checkpoints\\weights.78.hdf5\n",
      "854/854 [==============================] - 2s 3ms/step - loss: 0.3536 - accuracy: 0.8551\n",
      "Epoch 79/100\n",
      "387/854 [============>.................] - ETA: 1s - loss: 0.3563 - accuracy: 0.8544\n",
      "Epoch 79: saving model to checkpoints\\weights.79.hdf5\n",
      "854/854 [==============================] - 2s 3ms/step - loss: 0.3531 - accuracy: 0.8551\n",
      "Epoch 80/100\n",
      "521/854 [=================>............] - ETA: 0s - loss: 0.3514 - accuracy: 0.8547\n",
      "Epoch 80: saving model to checkpoints\\weights.80.hdf5\n",
      "854/854 [==============================] - 2s 2ms/step - loss: 0.3529 - accuracy: 0.8546\n",
      "Epoch 81/100\n",
      "674/854 [======================>.......] - ETA: 0s - loss: 0.3517 - accuracy: 0.8567\n",
      "Epoch 81: saving model to checkpoints\\weights.81.hdf5\n",
      "854/854 [==============================] - 2s 2ms/step - loss: 0.3527 - accuracy: 0.8557\n",
      "Epoch 82/100\n",
      "814/854 [===========================>..] - ETA: 0s - loss: 0.3529 - accuracy: 0.8542\n",
      "Epoch 82: saving model to checkpoints\\weights.82.hdf5\n",
      "854/854 [==============================] - 2s 2ms/step - loss: 0.3530 - accuracy: 0.8544\n",
      "Epoch 83/100\n",
      "854/854 [==============================] - 2s 2ms/step - loss: 0.3528 - accuracy: 0.8552\n",
      "Epoch 84/100\n",
      "117/854 [===>..........................] - ETA: 2s - loss: 0.3493 - accuracy: 0.8526\n",
      "Epoch 84: saving model to checkpoints\\weights.84.hdf5\n",
      "854/854 [==============================] - 2s 3ms/step - loss: 0.3527 - accuracy: 0.8556\n",
      "Epoch 85/100\n",
      "245/854 [=======>......................] - ETA: 1s - loss: 0.3459 - accuracy: 0.8584\n",
      "Epoch 85: saving model to checkpoints\\weights.85.hdf5\n",
      "854/854 [==============================] - 2s 3ms/step - loss: 0.3520 - accuracy: 0.8553\n",
      "Epoch 86/100\n",
      "405/854 [=============>................] - ETA: 1s - loss: 0.3502 - accuracy: 0.8566\n",
      "Epoch 86: saving model to checkpoints\\weights.86.hdf5\n",
      "854/854 [==============================] - 2s 2ms/step - loss: 0.3523 - accuracy: 0.8555\n",
      "Epoch 87/100\n",
      "534/854 [=================>............] - ETA: 0s - loss: 0.3486 - accuracy: 0.8583\n",
      "Epoch 87: saving model to checkpoints\\weights.87.hdf5\n",
      "854/854 [==============================] - 2s 2ms/step - loss: 0.3528 - accuracy: 0.8559\n",
      "Epoch 88/100\n",
      "693/854 [=======================>......] - ETA: 0s - loss: 0.3505 - accuracy: 0.8577\n",
      "Epoch 88: saving model to checkpoints\\weights.88.hdf5\n",
      "854/854 [==============================] - 2s 2ms/step - loss: 0.3522 - accuracy: 0.8561\n",
      "Epoch 89/100\n",
      "835/854 [============================>.] - ETA: 0s - loss: 0.3517 - accuracy: 0.8554\n",
      "Epoch 89: saving model to checkpoints\\weights.89.hdf5\n",
      "854/854 [==============================] - 2s 2ms/step - loss: 0.3522 - accuracy: 0.8550\n",
      "Epoch 90/100\n",
      "854/854 [==============================] - 2s 2ms/step - loss: 0.3527 - accuracy: 0.8553\n",
      "Epoch 91/100\n",
      "134/854 [===>..........................] - ETA: 1s - loss: 0.3317 - accuracy: 0.8659\n",
      "Epoch 91: saving model to checkpoints\\weights.91.hdf5\n",
      "854/854 [==============================] - 2s 2ms/step - loss: 0.3523 - accuracy: 0.8551\n",
      "Epoch 92/100\n",
      "264/854 [========>.....................] - ETA: 1s - loss: 0.3513 - accuracy: 0.8523\n",
      "Epoch 92: saving model to checkpoints\\weights.92.hdf5\n",
      "854/854 [==============================] - 2s 2ms/step - loss: 0.3524 - accuracy: 0.8559\n",
      "Epoch 93/100\n",
      "429/854 [==============>...............] - ETA: 1s - loss: 0.3471 - accuracy: 0.8582\n",
      "Epoch 93: saving model to checkpoints\\weights.93.hdf5\n",
      "854/854 [==============================] - 2s 2ms/step - loss: 0.3524 - accuracy: 0.8557\n",
      "Epoch 94/100\n",
      "555/854 [==================>...........] - ETA: 0s - loss: 0.3524 - accuracy: 0.8551\n",
      "Epoch 94: saving model to checkpoints\\weights.94.hdf5\n",
      "854/854 [==============================] - 2s 2ms/step - loss: 0.3524 - accuracy: 0.8551\n",
      "Epoch 95/100\n",
      "720/854 [========================>.....] - ETA: 0s - loss: 0.3524 - accuracy: 0.8552\n",
      "Epoch 95: saving model to checkpoints\\weights.95.hdf5\n",
      "854/854 [==============================] - 2s 2ms/step - loss: 0.3524 - accuracy: 0.8554\n",
      "Epoch 96/100\n",
      "854/854 [==============================] - 2s 2ms/step - loss: 0.3521 - accuracy: 0.8556\n",
      "Epoch 97/100\n",
      "  1/854 [..............................] - ETA: 2s - loss: 0.5407 - accuracy: 0.7188\n",
      "Epoch 97: saving model to checkpoints\\weights.97.hdf5\n",
      "854/854 [==============================] - 2s 2ms/step - loss: 0.3520 - accuracy: 0.8548\n",
      "Epoch 98/100\n",
      "155/854 [====>.........................] - ETA: 1s - loss: 0.3480 - accuracy: 0.8544\n",
      "Epoch 98: saving model to checkpoints\\weights.98.hdf5\n",
      "854/854 [==============================] - 2s 2ms/step - loss: 0.3521 - accuracy: 0.8545\n",
      "Epoch 99/100\n",
      "285/854 [=========>....................] - ETA: 1s - loss: 0.3549 - accuracy: 0.8536\n",
      "Epoch 99: saving model to checkpoints\\weights.99.hdf5\n",
      "854/854 [==============================] - 1s 2ms/step - loss: 0.3521 - accuracy: 0.8549\n",
      "Epoch 100/100\n",
      "451/854 [==============>...............] - ETA: 0s - loss: 0.3493 - accuracy: 0.8560\n",
      "Epoch 100: saving model to checkpoints\\weights.100.hdf5\n",
      "854/854 [==============================] - 2s 2ms/step - loss: 0.3518 - accuracy: 0.8548\n"
     ]
    }
   ],
   "source": [
    "fit_model = nn.fit(X_train_scaled,y_train,epochs=100,callbacks=[cp_callback])"
   ]
  },
  {
   "cell_type": "markdown",
   "id": "96c0d78b",
   "metadata": {},
   "source": [
    "## Evaluate the model using the test dat"
   ]
  },
  {
   "cell_type": "code",
   "execution_count": 33,
   "id": "85540ae7",
   "metadata": {},
   "outputs": [
    {
     "name": "stdout",
     "output_type": "stream",
     "text": [
      "285/285 - 0s - loss: 0.4002 - accuracy: 0.8436 - 458ms/epoch - 2ms/step\n",
      "Loss: 0.4002450108528137, Accuracy: 0.8436195850372314\n"
     ]
    }
   ],
   "source": [
    "model_loss, model_accuracy = nn.evaluate(X_test_scaled,y_test,verbose=2)\n",
    "print(f\"Loss: {model_loss}, Accuracy: {model_accuracy}\")"
   ]
  },
  {
   "cell_type": "markdown",
   "id": "af088f2e",
   "metadata": {},
   "source": [
    "## Define the model - deep neural net"
   ]
  },
  {
   "cell_type": "code",
   "execution_count": 39,
   "id": "1142837f",
   "metadata": {},
   "outputs": [],
   "source": [
    "number_input_features = len(X_train_scaled[0])\n",
    "hidden_nodes_layer1 =  8\n",
    "hidden_nodes_layer2 = 5\n",
    "\n",
    "nn_new = tf.keras.models.Sequential()"
   ]
  },
  {
   "cell_type": "markdown",
   "id": "85c3653f",
   "metadata": {},
   "source": [
    "## First hidden layer"
   ]
  },
  {
   "cell_type": "code",
   "execution_count": 40,
   "id": "7df52d64",
   "metadata": {},
   "outputs": [],
   "source": [
    "nn_new.add(\n",
    "    tf.keras.layers.Dense(units=hidden_nodes_layer1, input_dim=number_input_features, activation=\"relu\")\n",
    ")"
   ]
  },
  {
   "cell_type": "markdown",
   "id": "13f587b4",
   "metadata": {},
   "source": [
    "## Second hidden layer"
   ]
  },
  {
   "cell_type": "code",
   "execution_count": 41,
   "id": "9be8ee57",
   "metadata": {},
   "outputs": [],
   "source": [
    "nn_new.add(tf.keras.layers.Dense(units=hidden_nodes_layer2, activation=\"relu\"))"
   ]
  },
  {
   "cell_type": "markdown",
   "id": "fd9b6071",
   "metadata": {},
   "source": [
    "## Output layer"
   ]
  },
  {
   "cell_type": "code",
   "execution_count": 42,
   "id": "7b999b7a",
   "metadata": {},
   "outputs": [],
   "source": [
    "nn_new.add(tf.keras.layers.Dense(units=1, activation=\"sigmoid\"))"
   ]
  },
  {
   "cell_type": "markdown",
   "id": "92f4b663",
   "metadata": {},
   "source": [
    "## Compile the model"
   ]
  },
  {
   "cell_type": "code",
   "execution_count": 43,
   "id": "2d655c42",
   "metadata": {},
   "outputs": [],
   "source": [
    "nn_new.compile(loss=\"binary_crossentropy\", optimizer=\"adam\", metrics=[\"accuracy\"])"
   ]
  },
  {
   "cell_type": "markdown",
   "id": "41aafc93",
   "metadata": {},
   "source": [
    "## Restore the model weights"
   ]
  },
  {
   "cell_type": "code",
   "execution_count": 45,
   "id": "dfec626b",
   "metadata": {},
   "outputs": [
    {
     "ename": "ValueError",
     "evalue": "Cannot assign value to variable ' dense_3/kernel:0': Shape mismatch.The variable shape (36, 8), and the assigned value shape (36, 24) are incompatible.",
     "output_type": "error",
     "traceback": [
      "\u001b[1;31m---------------------------------------------------------------------------\u001b[0m",
      "\u001b[1;31mValueError\u001b[0m                                Traceback (most recent call last)",
      "\u001b[1;32m~\\AppData\\Local\\Temp/ipykernel_21004/3468427735.py\u001b[0m in \u001b[0;36m<module>\u001b[1;34m\u001b[0m\n\u001b[1;32m----> 1\u001b[1;33m \u001b[0mnn_new\u001b[0m\u001b[1;33m.\u001b[0m\u001b[0mload_weights\u001b[0m\u001b[1;33m(\u001b[0m\u001b[1;34m\"checkpoints/weights.100.hdf5\"\u001b[0m\u001b[1;33m)\u001b[0m\u001b[1;33m\u001b[0m\u001b[1;33m\u001b[0m\u001b[0m\n\u001b[0m",
      "\u001b[1;32mC:\\ProgramData\\Anaconda3\\envs\\Mlenv\\lib\\site-packages\\keras\\utils\\traceback_utils.py\u001b[0m in \u001b[0;36merror_handler\u001b[1;34m(*args, **kwargs)\u001b[0m\n\u001b[0;32m     65\u001b[0m     \u001b[1;32mexcept\u001b[0m \u001b[0mException\u001b[0m \u001b[1;32mas\u001b[0m \u001b[0me\u001b[0m\u001b[1;33m:\u001b[0m  \u001b[1;31m# pylint: disable=broad-except\u001b[0m\u001b[1;33m\u001b[0m\u001b[1;33m\u001b[0m\u001b[0m\n\u001b[0;32m     66\u001b[0m       \u001b[0mfiltered_tb\u001b[0m \u001b[1;33m=\u001b[0m \u001b[0m_process_traceback_frames\u001b[0m\u001b[1;33m(\u001b[0m\u001b[0me\u001b[0m\u001b[1;33m.\u001b[0m\u001b[0m__traceback__\u001b[0m\u001b[1;33m)\u001b[0m\u001b[1;33m\u001b[0m\u001b[1;33m\u001b[0m\u001b[0m\n\u001b[1;32m---> 67\u001b[1;33m       \u001b[1;32mraise\u001b[0m \u001b[0me\u001b[0m\u001b[1;33m.\u001b[0m\u001b[0mwith_traceback\u001b[0m\u001b[1;33m(\u001b[0m\u001b[0mfiltered_tb\u001b[0m\u001b[1;33m)\u001b[0m \u001b[1;32mfrom\u001b[0m \u001b[1;32mNone\u001b[0m\u001b[1;33m\u001b[0m\u001b[1;33m\u001b[0m\u001b[0m\n\u001b[0m\u001b[0;32m     68\u001b[0m     \u001b[1;32mfinally\u001b[0m\u001b[1;33m:\u001b[0m\u001b[1;33m\u001b[0m\u001b[1;33m\u001b[0m\u001b[0m\n\u001b[0;32m     69\u001b[0m       \u001b[1;32mdel\u001b[0m \u001b[0mfiltered_tb\u001b[0m\u001b[1;33m\u001b[0m\u001b[1;33m\u001b[0m\u001b[0m\n",
      "\u001b[1;32mC:\\ProgramData\\Anaconda3\\envs\\Mlenv\\lib\\site-packages\\keras\\backend.py\u001b[0m in \u001b[0;36mbatch_set_value\u001b[1;34m(tuples)\u001b[0m\n\u001b[0;32m   4017\u001b[0m   \u001b[1;32mif\u001b[0m \u001b[0mtf\u001b[0m\u001b[1;33m.\u001b[0m\u001b[0mcompat\u001b[0m\u001b[1;33m.\u001b[0m\u001b[0mv1\u001b[0m\u001b[1;33m.\u001b[0m\u001b[0mexecuting_eagerly_outside_functions\u001b[0m\u001b[1;33m(\u001b[0m\u001b[1;33m)\u001b[0m\u001b[1;33m:\u001b[0m\u001b[1;33m\u001b[0m\u001b[1;33m\u001b[0m\u001b[0m\n\u001b[0;32m   4018\u001b[0m     \u001b[1;32mfor\u001b[0m \u001b[0mx\u001b[0m\u001b[1;33m,\u001b[0m \u001b[0mvalue\u001b[0m \u001b[1;32min\u001b[0m \u001b[0mtuples\u001b[0m\u001b[1;33m:\u001b[0m\u001b[1;33m\u001b[0m\u001b[1;33m\u001b[0m\u001b[0m\n\u001b[1;32m-> 4019\u001b[1;33m       \u001b[0mx\u001b[0m\u001b[1;33m.\u001b[0m\u001b[0massign\u001b[0m\u001b[1;33m(\u001b[0m\u001b[0mnp\u001b[0m\u001b[1;33m.\u001b[0m\u001b[0masarray\u001b[0m\u001b[1;33m(\u001b[0m\u001b[0mvalue\u001b[0m\u001b[1;33m,\u001b[0m \u001b[0mdtype\u001b[0m\u001b[1;33m=\u001b[0m\u001b[0mdtype_numpy\u001b[0m\u001b[1;33m(\u001b[0m\u001b[0mx\u001b[0m\u001b[1;33m)\u001b[0m\u001b[1;33m)\u001b[0m\u001b[1;33m)\u001b[0m\u001b[1;33m\u001b[0m\u001b[1;33m\u001b[0m\u001b[0m\n\u001b[0m\u001b[0;32m   4020\u001b[0m   \u001b[1;32melse\u001b[0m\u001b[1;33m:\u001b[0m\u001b[1;33m\u001b[0m\u001b[1;33m\u001b[0m\u001b[0m\n\u001b[0;32m   4021\u001b[0m     \u001b[1;32mwith\u001b[0m \u001b[0mget_graph\u001b[0m\u001b[1;33m(\u001b[0m\u001b[1;33m)\u001b[0m\u001b[1;33m.\u001b[0m\u001b[0mas_default\u001b[0m\u001b[1;33m(\u001b[0m\u001b[1;33m)\u001b[0m\u001b[1;33m:\u001b[0m\u001b[1;33m\u001b[0m\u001b[1;33m\u001b[0m\u001b[0m\n",
      "\u001b[1;31mValueError\u001b[0m: Cannot assign value to variable ' dense_3/kernel:0': Shape mismatch.The variable shape (36, 8), and the assigned value shape (36, 24) are incompatible."
     ]
    }
   ],
   "source": [
    "nn_new.load_weights(\"checkpoints/weights.100.hdf5\")"
   ]
  },
  {
   "cell_type": "markdown",
   "id": "f73dbffb",
   "metadata": {},
   "source": [
    "## Evaluate the model using the test data"
   ]
  },
  {
   "cell_type": "code",
   "execution_count": 46,
   "id": "ff1c9db2",
   "metadata": {},
   "outputs": [
    {
     "name": "stdout",
     "output_type": "stream",
     "text": [
      "285/285 - 0s - loss: 0.5898 - accuracy: 0.7339 - 408ms/epoch - 1ms/step\n",
      "Loss: 0.5898188352584839, Accuracy: 0.7339116930961609\n"
     ]
    }
   ],
   "source": [
    "model_loss, model_accuracy = nn_new.evaluate(X_test_scaled,y_test,verbose=2)\n",
    "print(f\"Loss: {model_loss}, Accuracy: {model_accuracy}\")"
   ]
  },
  {
   "cell_type": "markdown",
   "id": "34e29a24",
   "metadata": {},
   "source": [
    "# 19.6.2 For Best Results, Please Save After Training"
   ]
  },
  {
   "cell_type": "markdown",
   "id": "9a888fb9",
   "metadata": {},
   "source": [
    "## Export our model to HDF5 file"
   ]
  },
  {
   "cell_type": "code",
   "execution_count": 47,
   "id": "26bf58fb",
   "metadata": {},
   "outputs": [],
   "source": [
    "nn_new.save(\"trained_attrition.h5\")"
   ]
  },
  {
   "cell_type": "markdown",
   "id": "6dfe37dd",
   "metadata": {},
   "source": [
    "## Import the model to a new object"
   ]
  },
  {
   "cell_type": "code",
   "execution_count": 48,
   "id": "c788ddfd",
   "metadata": {},
   "outputs": [],
   "source": [
    "nn_imported = tf.keras.models.load_model('trained_attrition.h5')"
   ]
  },
  {
   "cell_type": "markdown",
   "id": "99a45d58",
   "metadata": {},
   "source": [
    "## Evaluate the model using the test data"
   ]
  },
  {
   "cell_type": "code",
   "execution_count": 49,
   "id": "c88d6e0a",
   "metadata": {},
   "outputs": [
    {
     "name": "stdout",
     "output_type": "stream",
     "text": [
      "285/285 - 0s - loss: 0.5898 - accuracy: 0.7339 - 312ms/epoch - 1ms/step\n",
      "Loss: 0.5898188352584839, Accuracy: 0.7339116930961609\n"
     ]
    }
   ],
   "source": [
    "model_loss, model_accuracy = nn_new.evaluate(X_test_scaled,y_test,verbose=2)\n",
    "print(f\"Loss: {model_loss}, Accuracy: {model_accuracy}\")"
   ]
  },
  {
   "cell_type": "code",
   "execution_count": null,
   "id": "9b4fe97a",
   "metadata": {},
   "outputs": [],
   "source": []
  }
 ],
 "metadata": {
  "interpreter": {
   "hash": "4d974b64c1c29cc365b8929ad23b4a7a24907d593b120c5bbff7dea98c1521e2"
  },
  "kernelspec": {
   "display_name": "mlenv",
   "language": "python",
   "name": "python3"
  },
  "language_info": {
   "codemirror_mode": {
    "name": "ipython",
    "version": 3
   },
   "file_extension": ".py",
   "mimetype": "text/x-python",
   "name": "python",
   "nbconvert_exporter": "python",
   "pygments_lexer": "ipython3",
   "version": "3.7.11"
  }
 },
 "nbformat": 4,
 "nbformat_minor": 5
}
